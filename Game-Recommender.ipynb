{
 "cells": [
  {
   "cell_type": "markdown",
   "metadata": {
    "id": "IDucbg0ddmbI"
   },
   "source": [
    "# Importing packages and the dataset"
   ]
  },
  {
   "cell_type": "code",
   "execution_count": 1,
   "metadata": {
    "colab": {
     "base_uri": "https://localhost:8080/"
    },
    "id": "bZnBo8jOb8RN",
    "outputId": "992e5d1d-fe22-48fc-85f1-303212da3ea6"
   },
   "outputs": [],
   "source": [
    "# Import the necessary packages\n",
    "import pandas as pd\n",
    "import numpy as np\n",
    "import seaborn as sns\n",
    "import warnings\n",
    "from matplotlib import pyplot as plt"
   ]
  },
  {
   "cell_type": "code",
   "execution_count": 2,
   "metadata": {
    "colab": {
     "base_uri": "https://localhost:8080/"
    },
    "id": "H-uyrtFncXCo",
    "outputId": "cec319c2-61a6-48dd-b9bb-199b604e2162"
   },
   "outputs": [],
   "source": [
    "games_df = pd.read_csv('games.csv')\n",
    "recommendations_df = pd.read_csv('recommendations.csv')\n",
    "users_df = pd.read_csv('users.csv')"
   ]
  },
  {
   "cell_type": "markdown",
   "metadata": {
    "id": "AjUKUs_2dmbN"
   },
   "source": [
    "# Combining all the data into a single dataframe"
   ]
  },
  {
   "cell_type": "code",
   "execution_count": 3,
   "metadata": {
    "colab": {
     "base_uri": "https://localhost:8080/"
    },
    "id": "69xHndvjdP-G",
    "outputId": "fa406e2e-b8ae-459c-a0d4-ecbc04d9d403"
   },
   "outputs": [
    {
     "name": "stdout",
     "output_type": "stream",
     "text": [
      "Games Dataframe \n",
      "   app_id                              title date_release   win    mac  linux  \\\n",
      "0   13500  Prince of Persia: Warrior Within™   2008-11-21  True  False  False   \n",
      "1   22364            BRINK: Agents of Change   2011-08-03  True  False  False   \n",
      "2  113020       Monaco: What's Yours Is Mine   2013-04-24  True   True   True   \n",
      "3  226560                 Escape Dead Island   2014-11-18  True  False  False   \n",
      "4  249050            Dungeon of the ENDLESS™   2014-10-27  True   True  False   \n",
      "\n",
      "          rating  positive_ratio  user_reviews  price_final  price_original  \\\n",
      "0  Very Positive              84          2199         9.99            9.99   \n",
      "1       Positive              85            21         2.99            2.99   \n",
      "2  Very Positive              92          3722        14.99           14.99   \n",
      "3          Mixed              61           873        14.99           14.99   \n",
      "4  Very Positive              88          8784        11.99           11.99   \n",
      "\n",
      "   discount  steam_deck  \n",
      "0       0.0        True  \n",
      "1       0.0        True  \n",
      "2       0.0        True  \n",
      "3       0.0        True  \n",
      "4       0.0        True  \n",
      "\n",
      "\n",
      "Recommendations Dataframe \n",
      "    app_id  helpful  funny        date  is_recommended  hours  user_id  \\\n",
      "0   975370        0      0  2022-12-12            True   36.3    49625   \n",
      "1   304390        4      0  2017-02-17           False   11.5     2482   \n",
      "2  1085660        2      0  2019-11-17            True  336.5   243409   \n",
      "3   703080        0      0  2022-09-23            True   27.4   248701   \n",
      "4   526870        0      0  2021-01-10            True    7.9    22902   \n",
      "\n",
      "   review_id  \n",
      "0          0  \n",
      "1          1  \n",
      "2          2  \n",
      "3          3  \n",
      "4          4  \n",
      "\n",
      "\n",
      "Users Dataframe \n",
      "    user_id  products  reviews\n",
      "0   7090995       359        0\n",
      "1  13511788       156        1\n",
      "2   8444727       329        4\n",
      "3   4632233       176        3\n",
      "4   4968781        98        2\n"
     ]
    }
   ],
   "source": [
    "# Set display options to show all columns\n",
    "pd.set_option('display.max_columns', None)\n",
    "\n",
    "# Print the head of the DataFrame with all columns visible\n",
    "print(f'Games Dataframe \\n{games_df.head()}')\n",
    "print(f'\\n\\nRecommendations Dataframe \\n{recommendations_df.head()}')\n",
    "print(f'\\n\\nUsers Dataframe \\n{users_df.head()}')"
   ]
  },
  {
   "cell_type": "code",
   "execution_count": 4,
   "metadata": {
    "colab": {
     "base_uri": "https://localhost:8080/"
    },
    "id": "bWSDOaINYbsW",
    "outputId": "66fbb577-ca72-4987-b4ad-0c08223ee941"
   },
   "outputs": [
    {
     "name": "stdout",
     "output_type": "stream",
     "text": [
      "<class 'pandas.core.frame.DataFrame'>\n",
      "RangeIndex: 50872 entries, 0 to 50871\n",
      "Data columns (total 13 columns):\n",
      " #   Column          Non-Null Count  Dtype  \n",
      "---  ------          --------------  -----  \n",
      " 0   app_id          50872 non-null  int64  \n",
      " 1   title           50872 non-null  object \n",
      " 2   date_release    50872 non-null  object \n",
      " 3   win             50872 non-null  bool   \n",
      " 4   mac             50872 non-null  bool   \n",
      " 5   linux           50872 non-null  bool   \n",
      " 6   rating          50872 non-null  object \n",
      " 7   positive_ratio  50872 non-null  int64  \n",
      " 8   user_reviews    50872 non-null  int64  \n",
      " 9   price_final     50872 non-null  float64\n",
      " 10  price_original  50872 non-null  float64\n",
      " 11  discount        50872 non-null  float64\n",
      " 12  steam_deck      50872 non-null  bool   \n",
      "dtypes: bool(4), float64(3), int64(3), object(3)\n",
      "memory usage: 3.7+ MB\n"
     ]
    }
   ],
   "source": [
    "# Print details about the columns\n",
    "games_df.info()"
   ]
  },
  {
   "cell_type": "code",
   "execution_count": 5,
   "metadata": {
    "colab": {
     "base_uri": "https://localhost:8080/"
    },
    "id": "3OJYmM6dkFbX",
    "outputId": "c60ca59f-b7ee-421e-f4cd-de290526372d"
   },
   "outputs": [
    {
     "name": "stdout",
     "output_type": "stream",
     "text": [
      "\n",
      "\n",
      "\n",
      "<class 'pandas.core.frame.DataFrame'>\n",
      "RangeIndex: 38354101 entries, 0 to 38354100\n",
      "Data columns (total 8 columns):\n",
      " #   Column          Dtype  \n",
      "---  ------          -----  \n",
      " 0   app_id          int32  \n",
      " 1   helpful         float32\n",
      " 2   funny           float32\n",
      " 3   date            object \n",
      " 4   is_recommended  bool   \n",
      " 5   hours           float32\n",
      " 6   user_id         float32\n",
      " 7   review_id       float32\n",
      "dtypes: bool(1), float32(5), int32(1), object(1)\n",
      "memory usage: 1.2+ GB\n",
      "None\n"
     ]
    }
   ],
   "source": [
    "# Change the datatype of columns for optimal memory management\n",
    "recommendations_df['app_id'] = recommendations_df['app_id'].astype('int32')\n",
    "recommendations_df['helpful'] = recommendations_df['helpful'].astype('float32')\n",
    "recommendations_df['funny'] = recommendations_df['funny'].astype('float32')\n",
    "recommendations_df['hours'] = recommendations_df['hours'].astype('float32')\n",
    "recommendations_df['user_id'] = recommendations_df['user_id'].astype('float32')\n",
    "recommendations_df['review_id'] = recommendations_df['review_id'].astype('float32')\n",
    "\n",
    "# Print the information of recommendations_df\n",
    "print('\\n\\n')\n",
    "print(recommendations_df.info())"
   ]
  },
  {
   "cell_type": "code",
   "execution_count": 6,
   "metadata": {
    "colab": {
     "base_uri": "https://localhost:8080/"
    },
    "id": "A-tDZ8YblK8z",
    "outputId": "e31a48d6-8126-4835-83a3-a84f90d94566"
   },
   "outputs": [
    {
     "name": "stdout",
     "output_type": "stream",
     "text": [
      "Columns with null values:\n",
      "Series([], dtype: int64)\n"
     ]
    }
   ],
   "source": [
    "# Check for null values in all columns of games_df\n",
    "null_columns = games_df.isnull().sum()\n",
    "\n",
    "# Print columns with null values and their corresponding counts in games_df\n",
    "print(\"Columns with null values:\")\n",
    "print(null_columns[null_columns > 0])"
   ]
  },
  {
   "cell_type": "code",
   "execution_count": 7,
   "metadata": {
    "colab": {
     "base_uri": "https://localhost:8080/"
    },
    "id": "lVHyp2zDO2sF",
    "outputId": "b4eb0695-bc46-47f0-b15e-31f617b89f7e"
   },
   "outputs": [],
   "source": [
    "# Randomly sample 10% of the data from recommendations_df\n",
    "recommendations_df = recommendations_df.sample(frac=0.1, random_state=1)"
   ]
  },
  {
   "cell_type": "code",
   "execution_count": 8,
   "metadata": {
    "colab": {
     "base_uri": "https://localhost:8080/"
    },
    "id": "3QafZYqllRBB",
    "outputId": "7d98b824-c1e5-48d3-b1e5-a2bc1615f1af"
   },
   "outputs": [
    {
     "name": "stdout",
     "output_type": "stream",
     "text": [
      "Columns with null values:\n",
      "Series([], dtype: int64)\n"
     ]
    }
   ],
   "source": [
    "# Check for null values in all columns of recommendations_df\n",
    "null_columns = recommendations_df.isnull().sum()\n",
    "\n",
    "# Print columns with null values and their corresponding counts\n",
    "print(\"Columns with null values:\")\n",
    "print(null_columns[null_columns > 0])"
   ]
  },
  {
   "cell_type": "code",
   "execution_count": 9,
   "metadata": {
    "colab": {
     "base_uri": "https://localhost:8080/"
    },
    "id": "EAN6iFitYjDz",
    "outputId": "11cd58cc-80df-4f78-f4be-b4d611e4a870"
   },
   "outputs": [
    {
     "name": "stdout",
     "output_type": "stream",
     "text": [
      "\n",
      "\n",
      "\n",
      "<class 'pandas.core.frame.DataFrame'>\n",
      "RangeIndex: 13786778 entries, 0 to 13786777\n",
      "Data columns (total 3 columns):\n",
      " #   Column    Dtype  \n",
      "---  ------    -----  \n",
      " 0   user_id   int32  \n",
      " 1   products  int64  \n",
      " 2   reviews   float32\n",
      "dtypes: float32(1), int32(1), int64(1)\n",
      "memory usage: 210.4 MB\n",
      "None\n"
     ]
    }
   ],
   "source": [
    "# Change the datatype of columns for optimal memory management\n",
    "users_df['user_id'] = users_df['user_id'].astype('int32')\n",
    "#users_df['products'] = users_df['products'].astype('int32')\n",
    "users_df['reviews'] = users_df['reviews'].astype('float32')\n",
    "\n",
    "# Print the information of users_df\n",
    "print('\\n\\n')\n",
    "print(users_df.info())"
   ]
  },
  {
   "cell_type": "code",
   "execution_count": 10,
   "metadata": {
    "colab": {
     "base_uri": "https://localhost:8080/"
    },
    "id": "Nzkhql4ulYXm",
    "outputId": "2670f6a1-3cd3-4bb7-8f64-95770b72604d"
   },
   "outputs": [
    {
     "name": "stdout",
     "output_type": "stream",
     "text": [
      "Columns with null values:\n",
      "Series([], dtype: int64)\n"
     ]
    }
   ],
   "source": [
    "# Check for null values in all columns\n",
    "null_columns = users_df.isnull().sum()\n",
    "\n",
    "# Print columns with null values and their corresponding counts\n",
    "print(\"Columns with null values:\")\n",
    "print(null_columns[null_columns > 0])"
   ]
  },
  {
   "cell_type": "code",
   "execution_count": 11,
   "metadata": {
    "colab": {
     "base_uri": "https://localhost:8080/"
    },
    "id": "jKeNGM5bWsmX",
    "outputId": "bb9642d1-4027-481f-af92-eff4c4fa5234"
   },
   "outputs": [
    {
     "name": "stdout",
     "output_type": "stream",
     "text": [
      "   app_id                              title date_release   win    mac  linux  \\\n",
      "0   13500  Prince of Persia: Warrior Within™   2008-11-21  True  False  False   \n",
      "1   13500  Prince of Persia: Warrior Within™   2008-11-21  True  False  False   \n",
      "2   13500  Prince of Persia: Warrior Within™   2008-11-21  True  False  False   \n",
      "3   13500  Prince of Persia: Warrior Within™   2008-11-21  True  False  False   \n",
      "4   13500  Prince of Persia: Warrior Within™   2008-11-21  True  False  False   \n",
      "\n",
      "          rating  positive_ratio  user_reviews  price_final  price_original  \\\n",
      "0  Very Positive              84          2199         9.99            9.99   \n",
      "1  Very Positive              84          2199         9.99            9.99   \n",
      "2  Very Positive              84          2199         9.99            9.99   \n",
      "3  Very Positive              84          2199         9.99            9.99   \n",
      "4  Very Positive              84          2199         9.99            9.99   \n",
      "\n",
      "   discount  steam_deck  helpful  funny        date  is_recommended  \\\n",
      "0       0.0        True      0.0    0.0  2021-08-04            True   \n",
      "1       0.0        True      2.0    2.0  2022-12-15           False   \n",
      "2       0.0        True      2.0    0.0  2021-12-06            True   \n",
      "3       0.0        True      2.0    0.0  2020-09-23            True   \n",
      "4       0.0        True      0.0    0.0  2019-07-03            True   \n",
      "\n",
      "       hours    user_id   review_id  \n",
      "0  14.100000  5480030.0  31509970.0  \n",
      "1   1.100000  8906403.0  30948808.0  \n",
      "2  29.299999  5074935.0  30662368.0  \n",
      "3  87.599998  7549387.0  32068268.0  \n",
      "4   1.600000  7995597.0  14262720.0  \n",
      "\n",
      "\n",
      "\n",
      "<class 'pandas.core.frame.DataFrame'>\n",
      "RangeIndex: 3835410 entries, 0 to 3835409\n",
      "Data columns (total 20 columns):\n",
      " #   Column          Dtype  \n",
      "---  ------          -----  \n",
      " 0   app_id          int64  \n",
      " 1   title           object \n",
      " 2   date_release    object \n",
      " 3   win             bool   \n",
      " 4   mac             bool   \n",
      " 5   linux           bool   \n",
      " 6   rating          object \n",
      " 7   positive_ratio  int64  \n",
      " 8   user_reviews    int64  \n",
      " 9   price_final     float64\n",
      " 10  price_original  float64\n",
      " 11  discount        float64\n",
      " 12  steam_deck      bool   \n",
      " 13  helpful         float32\n",
      " 14  funny           float32\n",
      " 15  date            object \n",
      " 16  is_recommended  bool   \n",
      " 17  hours           float32\n",
      " 18  user_id         float32\n",
      " 19  review_id       float32\n",
      "dtypes: bool(5), float32(5), float64(3), int64(3), object(4)\n",
      "memory usage: 384.1+ MB\n",
      "None\n"
     ]
    }
   ],
   "source": [
    "# Merge games_df and recommendations_df on 'app_id'\n",
    "merged_df = pd.merge(games_df, recommendations_df, on='app_id')\n",
    "\n",
    "# Print the information of merged_df\n",
    "print(merged_df.head())\n",
    "print('\\n\\n')\n",
    "print(merged_df.info())"
   ]
  },
  {
   "cell_type": "code",
   "execution_count": 12,
   "metadata": {
    "colab": {
     "base_uri": "https://localhost:8080/"
    },
    "id": "BCsZ6BY6l-qT",
    "outputId": "a28cfe09-b4e7-4675-8bf5-9df0e4df1f03"
   },
   "outputs": [
    {
     "name": "stdout",
     "output_type": "stream",
     "text": [
      "\n",
      "\n",
      "\n",
      "<class 'pandas.core.frame.DataFrame'>\n",
      "RangeIndex: 3835410 entries, 0 to 3835409\n",
      "Data columns (total 20 columns):\n",
      " #   Column          Dtype  \n",
      "---  ------          -----  \n",
      " 0   app_id          int32  \n",
      " 1   title           object \n",
      " 2   date_release    object \n",
      " 3   win             bool   \n",
      " 4   mac             bool   \n",
      " 5   linux           bool   \n",
      " 6   rating          object \n",
      " 7   positive_ratio  int32  \n",
      " 8   user_reviews    int32  \n",
      " 9   price_final     float32\n",
      " 10  price_original  float32\n",
      " 11  discount        float32\n",
      " 12  steam_deck      bool   \n",
      " 13  helpful         float32\n",
      " 14  funny           float32\n",
      " 15  date            object \n",
      " 16  is_recommended  bool   \n",
      " 17  hours           float32\n",
      " 18  user_id         float32\n",
      " 19  review_id       float32\n",
      "dtypes: bool(5), float32(8), int32(3), object(4)\n",
      "memory usage: 296.3+ MB\n",
      "None\n"
     ]
    }
   ],
   "source": [
    "# Change the datatype of columns for optimal memory management\n",
    "merged_df['app_id'] = merged_df['app_id'].astype('int32')\n",
    "merged_df['positive_ratio'] = merged_df['positive_ratio'].astype('int32')\n",
    "merged_df['user_reviews'] = merged_df['user_reviews'].astype('int32')\n",
    "merged_df['price_final'] = merged_df['price_final'].astype('float32')\n",
    "merged_df['price_original'] = merged_df['price_original'].astype('float32')\n",
    "merged_df['discount'] = merged_df['discount'].astype('float32')\n",
    "\n",
    "# Print the information of merged_df\n",
    "print('\\n\\n')\n",
    "print(merged_df.info())"
   ]
  },
  {
   "cell_type": "code",
   "execution_count": 13,
   "metadata": {
    "colab": {
     "base_uri": "https://localhost:8080/"
    },
    "id": "JTKnOmKellS_",
    "outputId": "b0ef0eda-79cb-48c0-fb02-7e6db886e609"
   },
   "outputs": [
    {
     "name": "stdout",
     "output_type": "stream",
     "text": [
      "Columns with null values:\n",
      "Series([], dtype: int64)\n"
     ]
    }
   ],
   "source": [
    "# Check for null values in all columns\n",
    "null_columns = merged_df.isnull().sum()\n",
    "\n",
    "# Print columns with null values and their corresponding counts\n",
    "print(\"Columns with null values:\")\n",
    "print(null_columns[null_columns > 0])"
   ]
  },
  {
   "cell_type": "code",
   "execution_count": 14,
   "metadata": {
    "colab": {
     "base_uri": "https://localhost:8080/"
    },
    "id": "U5-tN-5yO_Mv",
    "outputId": "14bb278b-4ec0-46b2-8757-a8f4498c99d0"
   },
   "outputs": [],
   "source": [
    "# Merge the above merged_df with users_df on 'user_id'\n",
    "final_df = pd.merge(merged_df, users_df, on='user_id')"
   ]
  },
  {
   "cell_type": "code",
   "execution_count": 15,
   "metadata": {
    "colab": {
     "base_uri": "https://localhost:8080/",
     "height": 775
    },
    "id": "CKO9XuJpPgIC",
    "outputId": "0d91b637-0458-41dc-8834-bcff4118c789"
   },
   "outputs": [
    {
     "data": {
      "text/html": [
       "<div>\n",
       "<style scoped>\n",
       "    .dataframe tbody tr th:only-of-type {\n",
       "        vertical-align: middle;\n",
       "    }\n",
       "\n",
       "    .dataframe tbody tr th {\n",
       "        vertical-align: top;\n",
       "    }\n",
       "\n",
       "    .dataframe thead th {\n",
       "        text-align: right;\n",
       "    }\n",
       "</style>\n",
       "<table border=\"1\" class=\"dataframe\">\n",
       "  <thead>\n",
       "    <tr style=\"text-align: right;\">\n",
       "      <th></th>\n",
       "      <th>app_id</th>\n",
       "      <th>title</th>\n",
       "      <th>date_release</th>\n",
       "      <th>win</th>\n",
       "      <th>mac</th>\n",
       "      <th>linux</th>\n",
       "      <th>rating</th>\n",
       "      <th>positive_ratio</th>\n",
       "      <th>user_reviews</th>\n",
       "      <th>price_final</th>\n",
       "      <th>price_original</th>\n",
       "      <th>discount</th>\n",
       "      <th>steam_deck</th>\n",
       "      <th>helpful</th>\n",
       "      <th>funny</th>\n",
       "      <th>date</th>\n",
       "      <th>is_recommended</th>\n",
       "      <th>hours</th>\n",
       "      <th>user_id</th>\n",
       "      <th>review_id</th>\n",
       "      <th>products</th>\n",
       "      <th>reviews</th>\n",
       "    </tr>\n",
       "  </thead>\n",
       "  <tbody>\n",
       "    <tr>\n",
       "      <th>0</th>\n",
       "      <td>13500</td>\n",
       "      <td>Prince of Persia: Warrior Within™</td>\n",
       "      <td>2008-11-21</td>\n",
       "      <td>True</td>\n",
       "      <td>False</td>\n",
       "      <td>False</td>\n",
       "      <td>Very Positive</td>\n",
       "      <td>84</td>\n",
       "      <td>2199</td>\n",
       "      <td>9.99</td>\n",
       "      <td>9.99</td>\n",
       "      <td>0.0</td>\n",
       "      <td>True</td>\n",
       "      <td>0.0</td>\n",
       "      <td>0.0</td>\n",
       "      <td>2021-08-04</td>\n",
       "      <td>True</td>\n",
       "      <td>14.100000</td>\n",
       "      <td>5480030.0</td>\n",
       "      <td>31509970.0</td>\n",
       "      <td>60</td>\n",
       "      <td>9.0</td>\n",
       "    </tr>\n",
       "    <tr>\n",
       "      <th>1</th>\n",
       "      <td>438040</td>\n",
       "      <td>Shakes and Fidget</td>\n",
       "      <td>2016-02-24</td>\n",
       "      <td>True</td>\n",
       "      <td>True</td>\n",
       "      <td>False</td>\n",
       "      <td>Very Positive</td>\n",
       "      <td>93</td>\n",
       "      <td>29113</td>\n",
       "      <td>0.00</td>\n",
       "      <td>0.00</td>\n",
       "      <td>0.0</td>\n",
       "      <td>True</td>\n",
       "      <td>0.0</td>\n",
       "      <td>0.0</td>\n",
       "      <td>2017-01-19</td>\n",
       "      <td>True</td>\n",
       "      <td>574.799988</td>\n",
       "      <td>5480030.0</td>\n",
       "      <td>30337720.0</td>\n",
       "      <td>60</td>\n",
       "      <td>9.0</td>\n",
       "    </tr>\n",
       "    <tr>\n",
       "      <th>2</th>\n",
       "      <td>440</td>\n",
       "      <td>Team Fortress 2</td>\n",
       "      <td>2007-10-10</td>\n",
       "      <td>True</td>\n",
       "      <td>True</td>\n",
       "      <td>True</td>\n",
       "      <td>Very Positive</td>\n",
       "      <td>93</td>\n",
       "      <td>985819</td>\n",
       "      <td>0.00</td>\n",
       "      <td>0.00</td>\n",
       "      <td>0.0</td>\n",
       "      <td>True</td>\n",
       "      <td>2.0</td>\n",
       "      <td>0.0</td>\n",
       "      <td>2018-09-24</td>\n",
       "      <td>True</td>\n",
       "      <td>357.000000</td>\n",
       "      <td>5480030.0</td>\n",
       "      <td>21459190.0</td>\n",
       "      <td>60</td>\n",
       "      <td>9.0</td>\n",
       "    </tr>\n",
       "    <tr>\n",
       "      <th>3</th>\n",
       "      <td>13500</td>\n",
       "      <td>Prince of Persia: Warrior Within™</td>\n",
       "      <td>2008-11-21</td>\n",
       "      <td>True</td>\n",
       "      <td>False</td>\n",
       "      <td>False</td>\n",
       "      <td>Very Positive</td>\n",
       "      <td>84</td>\n",
       "      <td>2199</td>\n",
       "      <td>9.99</td>\n",
       "      <td>9.99</td>\n",
       "      <td>0.0</td>\n",
       "      <td>True</td>\n",
       "      <td>2.0</td>\n",
       "      <td>2.0</td>\n",
       "      <td>2022-12-15</td>\n",
       "      <td>False</td>\n",
       "      <td>1.100000</td>\n",
       "      <td>8906403.0</td>\n",
       "      <td>30948808.0</td>\n",
       "      <td>246</td>\n",
       "      <td>70.0</td>\n",
       "    </tr>\n",
       "    <tr>\n",
       "      <th>4</th>\n",
       "      <td>552520</td>\n",
       "      <td>Far Cry® 5</td>\n",
       "      <td>2018-03-26</td>\n",
       "      <td>True</td>\n",
       "      <td>False</td>\n",
       "      <td>False</td>\n",
       "      <td>Very Positive</td>\n",
       "      <td>80</td>\n",
       "      <td>129943</td>\n",
       "      <td>60.00</td>\n",
       "      <td>0.00</td>\n",
       "      <td>0.0</td>\n",
       "      <td>True</td>\n",
       "      <td>0.0</td>\n",
       "      <td>0.0</td>\n",
       "      <td>2021-09-17</td>\n",
       "      <td>True</td>\n",
       "      <td>48.900002</td>\n",
       "      <td>8906403.0</td>\n",
       "      <td>20543918.0</td>\n",
       "      <td>246</td>\n",
       "      <td>70.0</td>\n",
       "    </tr>\n",
       "    <tr>\n",
       "      <th>...</th>\n",
       "      <td>...</td>\n",
       "      <td>...</td>\n",
       "      <td>...</td>\n",
       "      <td>...</td>\n",
       "      <td>...</td>\n",
       "      <td>...</td>\n",
       "      <td>...</td>\n",
       "      <td>...</td>\n",
       "      <td>...</td>\n",
       "      <td>...</td>\n",
       "      <td>...</td>\n",
       "      <td>...</td>\n",
       "      <td>...</td>\n",
       "      <td>...</td>\n",
       "      <td>...</td>\n",
       "      <td>...</td>\n",
       "      <td>...</td>\n",
       "      <td>...</td>\n",
       "      <td>...</td>\n",
       "      <td>...</td>\n",
       "      <td>...</td>\n",
       "      <td>...</td>\n",
       "    </tr>\n",
       "    <tr>\n",
       "      <th>3835405</th>\n",
       "      <td>1361510</td>\n",
       "      <td>Teenage Mutant Ninja Turtles: Shredder's Revenge</td>\n",
       "      <td>2022-06-16</td>\n",
       "      <td>True</td>\n",
       "      <td>False</td>\n",
       "      <td>True</td>\n",
       "      <td>Very Positive</td>\n",
       "      <td>94</td>\n",
       "      <td>10250</td>\n",
       "      <td>17.00</td>\n",
       "      <td>0.00</td>\n",
       "      <td>0.0</td>\n",
       "      <td>True</td>\n",
       "      <td>0.0</td>\n",
       "      <td>0.0</td>\n",
       "      <td>2022-10-04</td>\n",
       "      <td>True</td>\n",
       "      <td>14.000000</td>\n",
       "      <td>8071034.0</td>\n",
       "      <td>36496784.0</td>\n",
       "      <td>35</td>\n",
       "      <td>1.0</td>\n",
       "    </tr>\n",
       "    <tr>\n",
       "      <th>3835406</th>\n",
       "      <td>1361510</td>\n",
       "      <td>Teenage Mutant Ninja Turtles: Shredder's Revenge</td>\n",
       "      <td>2022-06-16</td>\n",
       "      <td>True</td>\n",
       "      <td>False</td>\n",
       "      <td>True</td>\n",
       "      <td>Very Positive</td>\n",
       "      <td>94</td>\n",
       "      <td>10250</td>\n",
       "      <td>17.00</td>\n",
       "      <td>0.00</td>\n",
       "      <td>0.0</td>\n",
       "      <td>True</td>\n",
       "      <td>2.0</td>\n",
       "      <td>0.0</td>\n",
       "      <td>2022-11-22</td>\n",
       "      <td>True</td>\n",
       "      <td>19.500000</td>\n",
       "      <td>11270160.0</td>\n",
       "      <td>21182112.0</td>\n",
       "      <td>520</td>\n",
       "      <td>10.0</td>\n",
       "    </tr>\n",
       "    <tr>\n",
       "      <th>3835407</th>\n",
       "      <td>1361510</td>\n",
       "      <td>Teenage Mutant Ninja Turtles: Shredder's Revenge</td>\n",
       "      <td>2022-06-16</td>\n",
       "      <td>True</td>\n",
       "      <td>False</td>\n",
       "      <td>True</td>\n",
       "      <td>Very Positive</td>\n",
       "      <td>94</td>\n",
       "      <td>10250</td>\n",
       "      <td>17.00</td>\n",
       "      <td>0.00</td>\n",
       "      <td>0.0</td>\n",
       "      <td>True</td>\n",
       "      <td>0.0</td>\n",
       "      <td>0.0</td>\n",
       "      <td>2022-11-23</td>\n",
       "      <td>True</td>\n",
       "      <td>9.500000</td>\n",
       "      <td>11973345.0</td>\n",
       "      <td>14910758.0</td>\n",
       "      <td>66</td>\n",
       "      <td>4.0</td>\n",
       "    </tr>\n",
       "    <tr>\n",
       "      <th>3835408</th>\n",
       "      <td>1361510</td>\n",
       "      <td>Teenage Mutant Ninja Turtles: Shredder's Revenge</td>\n",
       "      <td>2022-06-16</td>\n",
       "      <td>True</td>\n",
       "      <td>False</td>\n",
       "      <td>True</td>\n",
       "      <td>Very Positive</td>\n",
       "      <td>94</td>\n",
       "      <td>10250</td>\n",
       "      <td>17.00</td>\n",
       "      <td>0.00</td>\n",
       "      <td>0.0</td>\n",
       "      <td>True</td>\n",
       "      <td>0.0</td>\n",
       "      <td>0.0</td>\n",
       "      <td>2022-06-16</td>\n",
       "      <td>True</td>\n",
       "      <td>22.900000</td>\n",
       "      <td>6277221.0</td>\n",
       "      <td>25476116.0</td>\n",
       "      <td>60</td>\n",
       "      <td>1.0</td>\n",
       "    </tr>\n",
       "    <tr>\n",
       "      <th>3835409</th>\n",
       "      <td>1361510</td>\n",
       "      <td>Teenage Mutant Ninja Turtles: Shredder's Revenge</td>\n",
       "      <td>2022-06-16</td>\n",
       "      <td>True</td>\n",
       "      <td>False</td>\n",
       "      <td>True</td>\n",
       "      <td>Very Positive</td>\n",
       "      <td>94</td>\n",
       "      <td>10250</td>\n",
       "      <td>17.00</td>\n",
       "      <td>0.00</td>\n",
       "      <td>0.0</td>\n",
       "      <td>True</td>\n",
       "      <td>0.0</td>\n",
       "      <td>0.0</td>\n",
       "      <td>2022-06-16</td>\n",
       "      <td>True</td>\n",
       "      <td>0.200000</td>\n",
       "      <td>9681885.0</td>\n",
       "      <td>14539218.0</td>\n",
       "      <td>360</td>\n",
       "      <td>6.0</td>\n",
       "    </tr>\n",
       "  </tbody>\n",
       "</table>\n",
       "<p>3835410 rows × 22 columns</p>\n",
       "</div>"
      ],
      "text/plain": [
       "          app_id                                             title  \\\n",
       "0          13500                 Prince of Persia: Warrior Within™   \n",
       "1         438040                                 Shakes and Fidget   \n",
       "2            440                                   Team Fortress 2   \n",
       "3          13500                 Prince of Persia: Warrior Within™   \n",
       "4         552520                                        Far Cry® 5   \n",
       "...          ...                                               ...   \n",
       "3835405  1361510  Teenage Mutant Ninja Turtles: Shredder's Revenge   \n",
       "3835406  1361510  Teenage Mutant Ninja Turtles: Shredder's Revenge   \n",
       "3835407  1361510  Teenage Mutant Ninja Turtles: Shredder's Revenge   \n",
       "3835408  1361510  Teenage Mutant Ninja Turtles: Shredder's Revenge   \n",
       "3835409  1361510  Teenage Mutant Ninja Turtles: Shredder's Revenge   \n",
       "\n",
       "        date_release   win    mac  linux         rating  positive_ratio  \\\n",
       "0         2008-11-21  True  False  False  Very Positive              84   \n",
       "1         2016-02-24  True   True  False  Very Positive              93   \n",
       "2         2007-10-10  True   True   True  Very Positive              93   \n",
       "3         2008-11-21  True  False  False  Very Positive              84   \n",
       "4         2018-03-26  True  False  False  Very Positive              80   \n",
       "...              ...   ...    ...    ...            ...             ...   \n",
       "3835405   2022-06-16  True  False   True  Very Positive              94   \n",
       "3835406   2022-06-16  True  False   True  Very Positive              94   \n",
       "3835407   2022-06-16  True  False   True  Very Positive              94   \n",
       "3835408   2022-06-16  True  False   True  Very Positive              94   \n",
       "3835409   2022-06-16  True  False   True  Very Positive              94   \n",
       "\n",
       "         user_reviews  price_final  price_original  discount  steam_deck  \\\n",
       "0                2199         9.99            9.99       0.0        True   \n",
       "1               29113         0.00            0.00       0.0        True   \n",
       "2              985819         0.00            0.00       0.0        True   \n",
       "3                2199         9.99            9.99       0.0        True   \n",
       "4              129943        60.00            0.00       0.0        True   \n",
       "...               ...          ...             ...       ...         ...   \n",
       "3835405         10250        17.00            0.00       0.0        True   \n",
       "3835406         10250        17.00            0.00       0.0        True   \n",
       "3835407         10250        17.00            0.00       0.0        True   \n",
       "3835408         10250        17.00            0.00       0.0        True   \n",
       "3835409         10250        17.00            0.00       0.0        True   \n",
       "\n",
       "         helpful  funny        date  is_recommended       hours     user_id  \\\n",
       "0            0.0    0.0  2021-08-04            True   14.100000   5480030.0   \n",
       "1            0.0    0.0  2017-01-19            True  574.799988   5480030.0   \n",
       "2            2.0    0.0  2018-09-24            True  357.000000   5480030.0   \n",
       "3            2.0    2.0  2022-12-15           False    1.100000   8906403.0   \n",
       "4            0.0    0.0  2021-09-17            True   48.900002   8906403.0   \n",
       "...          ...    ...         ...             ...         ...         ...   \n",
       "3835405      0.0    0.0  2022-10-04            True   14.000000   8071034.0   \n",
       "3835406      2.0    0.0  2022-11-22            True   19.500000  11270160.0   \n",
       "3835407      0.0    0.0  2022-11-23            True    9.500000  11973345.0   \n",
       "3835408      0.0    0.0  2022-06-16            True   22.900000   6277221.0   \n",
       "3835409      0.0    0.0  2022-06-16            True    0.200000   9681885.0   \n",
       "\n",
       "          review_id  products  reviews  \n",
       "0        31509970.0        60      9.0  \n",
       "1        30337720.0        60      9.0  \n",
       "2        21459190.0        60      9.0  \n",
       "3        30948808.0       246     70.0  \n",
       "4        20543918.0       246     70.0  \n",
       "...             ...       ...      ...  \n",
       "3835405  36496784.0        35      1.0  \n",
       "3835406  21182112.0       520     10.0  \n",
       "3835407  14910758.0        66      4.0  \n",
       "3835408  25476116.0        60      1.0  \n",
       "3835409  14539218.0       360      6.0  \n",
       "\n",
       "[3835410 rows x 22 columns]"
      ]
     },
     "execution_count": 15,
     "metadata": {},
     "output_type": "execute_result"
    }
   ],
   "source": [
    "final_df"
   ]
  },
  {
   "cell_type": "code",
   "execution_count": 16,
   "metadata": {
    "colab": {
     "base_uri": "https://localhost:8080/"
    },
    "id": "AfClujNPPoaO",
    "outputId": "bf370663-f9b2-4b34-ef83-ab788be5da86"
   },
   "outputs": [
    {
     "name": "stdout",
     "output_type": "stream",
     "text": [
      "Columns with null values:\n",
      "Series([], dtype: int64)\n"
     ]
    }
   ],
   "source": [
    "# Check for null values in all columns\n",
    "null_columns = final_df.isnull().sum()\n",
    "\n",
    "# Print columns with null values and their corresponding counts\n",
    "print(\"Columns with null values:\")\n",
    "print(null_columns[null_columns > 0])"
   ]
  },
  {
   "cell_type": "code",
   "execution_count": 17,
   "metadata": {
    "colab": {
     "base_uri": "https://localhost:8080/"
    },
    "id": "yCMcuTxYnsqF",
    "outputId": "8c2de176-234a-42b2-e021-586abb263f0d"
   },
   "outputs": [],
   "source": [
    "# # Sample 10% of the data\n",
    "# sampled_df = final_df.sample(frac=0.1, random_state=1)"
   ]
  },
  {
   "cell_type": "code",
   "execution_count": 18,
   "metadata": {
    "colab": {
     "base_uri": "https://localhost:8080/"
    },
    "id": "BlUTqvEZBRQh",
    "outputId": "17819e6c-9245-44f2-af07-8c3121c1590e"
   },
   "outputs": [
    {
     "name": "stdout",
     "output_type": "stream",
     "text": [
      "Index(['app_id', 'title', 'date_release', 'win', 'mac', 'linux', 'rating',\n",
      "       'positive_ratio', 'user_reviews', 'price_final', 'price_original',\n",
      "       'discount', 'steam_deck', 'helpful', 'funny', 'date', 'is_recommended',\n",
      "       'hours', 'user_id', 'review_id', 'products', 'reviews'],\n",
      "      dtype='object')\n"
     ]
    }
   ],
   "source": [
    "print(final_df.columns)"
   ]
  },
  {
   "cell_type": "markdown",
   "metadata": {
    "id": "SUA-9pgP8vVu"
   },
   "source": [
    "#EDA Visulatisations"
   ]
  },
  {
   "cell_type": "markdown",
   "metadata": {
    "id": "eYF0c29j87jc"
   },
   "source": [
    "### Distribution of Ratings"
   ]
  },
  {
   "cell_type": "code",
   "execution_count": 19,
   "metadata": {
    "colab": {
     "base_uri": "https://localhost:8080/",
     "height": 620
    },
    "id": "a5XCxW5vE_lV",
    "outputId": "abc3e9e5-ea34-4f9d-8561-d2b64897c5ef"
   },
   "outputs": [
    {
     "data": {
      "image/png": "[encoded data removed]",
      "text/plain": [
       "<Figure size 720x432 with 1 Axes>"
      ]
     },
     "metadata": {
      "needs_background": "light"
     },
     "output_type": "display_data"
    }
   ],
   "source": [
    "import seaborn as sns\n",
    "import matplotlib.pyplot as plt\n",
    "\n",
    "# Assuming you have a 'ratings' column in your dataset\n",
    "plt.figure(figsize=(10, 6))\n",
    "\n",
    "# Use horizontal bar plot to allow for longer labels\n",
    "sns.countplot(y='rating', data=final_df, order=final_df['rating'].value_counts().index)\n",
    "plt.title('Distribution of Ratings')\n",
    "plt.xlabel('Number of Ratings')\n",
    "plt.ylabel('Rating')\n",
    "plt.show()"
   ]
  },
  {
   "cell_type": "markdown",
   "metadata": {
    "id": "PrdobXWe-mpq"
   },
   "source": [
    "### Positive Ratio Distribution:"
   ]
  },
  {
   "cell_type": "code",
   "execution_count": 20,
   "metadata": {
    "colab": {
     "base_uri": "https://localhost:8080/",
     "height": 528
    },
    "id": "YkzksVcv82ou",
    "outputId": "b85d59c0-3a52-4da8-c6b1-49049332c3a4"
   },
   "outputs": [
    {
     "data": {
      "image/png": "[encoded data removed]",
      "text/plain": [
       "<Figure size 432x288 with 1 Axes>"
      ]
     },
     "metadata": {
      "needs_background": "light"
     },
     "output_type": "display_data"
    }
   ],
   "source": [
    "import seaborn as sns\n",
    "import matplotlib.pyplot as plt\n",
    "\n",
    "# Plot the histogram\n",
    "sns.histplot(data=final_df, x='positive_ratio', bins=30)\n",
    "plt.title('Distribution of Positive Ratios')\n",
    "plt.show()\n"
   ]
  },
  {
   "cell_type": "markdown",
   "metadata": {
    "id": "groP7Vw8-wpI"
   },
   "source": [
    "### User Reviews Distribution:"
   ]
  },
  {
   "cell_type": "code",
   "execution_count": 21,
   "metadata": {
    "colab": {
     "base_uri": "https://localhost:8080/",
     "height": 528
    },
    "id": "LfIzzJur-qmX",
    "outputId": "e1b770c0-ce75-4e86-a4f4-c8a676d8c828"
   },
   "outputs": [
    {
     "data": {
      "image/png": "[encoded data removed]",
      "text/plain": [
       "<Figure size 432x288 with 1 Axes>"
      ]
     },
     "metadata": {
      "needs_background": "light"
     },
     "output_type": "display_data"
    }
   ],
   "source": [
    "sns.histplot(data=final_df, x='user_reviews', bins=30)\n",
    "plt.title('Distribution of User Reviews')\n",
    "plt.show()\n"
   ]
  },
  {
   "cell_type": "markdown",
   "metadata": {
    "id": "kyWlpDbE-4Tf"
   },
   "source": [
    "### Price Distribution:"
   ]
  },
  {
   "cell_type": "code",
   "execution_count": 22,
   "metadata": {
    "colab": {
     "base_uri": "https://localhost:8080/",
     "height": 528
    },
    "id": "zIOYuLBu-yru",
    "outputId": "6f4ee6d3-6965-4773-ae48-6d4c3b1776bd"
   },
   "outputs": [
    {
     "data": {
      "image/png": "[encoded data removed]",
      "text/plain": [
       "<Figure size 432x288 with 1 Axes>"
      ]
     },
     "metadata": {
      "needs_background": "light"
     },
     "output_type": "display_data"
    }
   ],
   "source": [
    "sns.histplot(data=final_df, x='price_final', bins=30)\n",
    "plt.title('Distribution of Prices')\n",
    "plt.show()\n"
   ]
  },
  {
   "cell_type": "markdown",
   "metadata": {
    "id": "2EepYmP-_ImI"
   },
   "source": [
    "### Count of Games on Different Platforms:"
   ]
  },
  {
   "cell_type": "code",
   "execution_count": 23,
   "metadata": {
    "colab": {
     "base_uri": "https://localhost:8080/",
     "height": 578
    },
    "id": "nxiDU902_E30",
    "outputId": "002f940d-baef-42ee-ace9-016b1dd0e9de"
   },
   "outputs": [
    {
     "data": {
      "image/png": "[encoded data removed]",
      "text/plain": [
       "<Figure size 432x288 with 1 Axes>"
      ]
     },
     "metadata": {
      "needs_background": "light"
     },
     "output_type": "display_data"
    }
   ],
   "source": [
    "platform_columns = ['win', 'mac', 'linux', 'steam_deck']\n",
    "platform_counts = final_df[platform_columns].sum()\n",
    "platform_counts.plot(kind='bar', color='skyblue')\n",
    "plt.title('Count of Games on Different Platforms')\n",
    "plt.show()\n"
   ]
  },
  {
   "cell_type": "markdown",
   "metadata": {
    "id": "RkdYR0H4_QYX"
   },
   "source": [
    "### Boxplot of Price by Rating:"
   ]
  },
  {
   "cell_type": "code",
   "execution_count": 24,
   "metadata": {
    "colab": {
     "base_uri": "https://localhost:8080/",
     "height": 915
    },
    "id": "-n0SvQKx_MBE",
    "outputId": "71a6f228-6e2b-4ab9-ed7f-8b3ca7856cac"
   },
   "outputs": [
    {
     "data": {
      "image/png": "[encoded data removed]",
      "text/plain": [
       "<Figure size 864x576 with 1 Axes>"
      ]
     },
     "metadata": {
      "needs_background": "light"
     },
     "output_type": "display_data"
    }
   ],
   "source": [
    "import seaborn as sns\n",
    "import matplotlib.pyplot as plt\n",
    "\n",
    "# Assuming you have 'rating' and 'price_final' columns in your dataset\n",
    "plt.figure(figsize=(12, 8))  # Adjust the figure size\n",
    "\n",
    "# Use boxplot with rotated x-axis labels\n",
    "sns.boxplot(x='rating', y='price_final', data=final_df)\n",
    "plt.title('Boxplot of Price by Rating')\n",
    "plt.xlabel('Rating')\n",
    "plt.ylabel('Price Final')\n",
    "\n",
    "# Rotate x-axis labels for better readability\n",
    "plt.xticks(rotation=45)\n",
    "\n",
    "# Adjust subplot parameters to provide more space\n",
    "plt.subplots_adjust(left=0.2, right=0.9, top=0.9, bottom=0.1)\n",
    "\n",
    "plt.show()\n"
   ]
  },
  {
   "cell_type": "markdown",
   "metadata": {
    "id": "hKXQutvnAG46"
   },
   "source": [
    "###  Time Series Analysis:"
   ]
  },
  {
   "cell_type": "code",
   "execution_count": 25,
   "metadata": {
    "colab": {
     "base_uri": "https://localhost:8080/",
     "height": 528
    },
    "id": "NNeePjde_-90",
    "outputId": "6a978478-adac-43ec-8aa0-dd216e3bc560"
   },
   "outputs": [
    {
     "data": {
      "image/png": "[encoded data removed]",
      "text/plain": [
       "<Figure size 432x288 with 1 Axes>"
      ]
     },
     "metadata": {
      "needs_background": "light"
     },
     "output_type": "display_data"
    }
   ],
   "source": [
    "final_df['date'] = pd.to_datetime(final_df['date'])\n",
    "final_df.set_index('date', inplace=True)\n",
    "final_df.resample('M').size().plot()\n",
    "plt.title('Number of Games Released Over Time')\n",
    "plt.xlabel('Date')\n",
    "plt.ylabel('Number of Games')\n",
    "plt.show()"
   ]
  },
  {
   "cell_type": "markdown",
   "metadata": {
    "id": "CbQ4uZ9OAo_F"
   },
   "source": [
    "### Distribution of Helpful Votes in Recommendations:"
   ]
  },
  {
   "cell_type": "code",
   "execution_count": 26,
   "metadata": {
    "colab": {
     "base_uri": "https://localhost:8080/",
     "height": 528
    },
    "id": "1GECk7RmAjE1",
    "outputId": "dde9c7a7-72e3-4954-8dbb-e4961757d7a3"
   },
   "outputs": [
    {
     "data": {
      "image/png": "[encoded data removed]",
      "text/plain": [
       "<Figure size 432x288 with 1 Axes>"
      ]
     },
     "metadata": {
      "needs_background": "light"
     },
     "output_type": "display_data"
    }
   ],
   "source": [
    "sns.histplot(data=final_df, x='helpful', bins=30)\n",
    "plt.title('Distribution of Helpful Votes in Recommendations')\n",
    "plt.show()"
   ]
  },
  {
   "cell_type": "markdown",
   "metadata": {
    "id": "D3ZsRZjYA0nM"
   },
   "source": [
    "### User Products and Reviews Distribution:"
   ]
  },
  {
   "cell_type": "code",
   "execution_count": 27,
   "metadata": {
    "colab": {
     "base_uri": "https://localhost:8080/",
     "height": 543
    },
    "id": "SoKA-bqBAsvt",
    "outputId": "1f86a7c2-a463-4e2e-d2cf-235b4e57bd5f"
   },
   "outputs": [
    {
     "data": {
      "image/png": "[encoded data removed]",
      "text/plain": [
       "<Figure size 864x360 with 2 Axes>"
      ]
     },
     "metadata": {
      "needs_background": "light"
     },
     "output_type": "display_data"
    }
   ],
   "source": [
    "fig, axes = plt.subplots(1, 2, figsize=(12, 5))\n",
    "sns.histplot(data=final_df, x='products', bins=30, ax=axes[0])\n",
    "axes[0].set_title('Distribution of User Products')\n",
    "sns.histplot(data=final_df, x='reviews', bins=30, ax=axes[1])\n",
    "axes[1].set_title('Distribution of User Reviews')\n",
    "plt.show()"
   ]
  },
  {
   "cell_type": "markdown",
   "metadata": {
    "id": "nXDlLcIqBBST"
   },
   "source": [
    "### Word Cloud for Game Titles:"
   ]
  },
  {
   "cell_type": "code",
   "execution_count": 28,
   "metadata": {
    "colab": {
     "base_uri": "https://localhost:8080/"
    },
    "id": "4WkyCy-aA56K",
    "outputId": "16264a4a-c9e4-40c0-c941-43c779c249c2"
   },
   "outputs": [],
   "source": [
    "# from wordcloud import WordCloud\n",
    "\n",
    "# wordcloud = WordCloud(width=800, height=400, max_words=150, background_color='white').generate(' '.join(final_df['title']))\n",
    "# plt.figure(figsize=(10, 5))\n",
    "# plt.imshow(wordcloud, interpolation='bilinear')\n",
    "# plt.axis('off')\n",
    "# plt.title('Word Cloud for Game Titles')\n",
    "# plt.show()"
   ]
  },
  {
   "cell_type": "markdown",
   "metadata": {
    "id": "1EHdExW2BM6J"
   },
   "source": [
    "### Pairplot for Selected Features:"
   ]
  },
  {
   "cell_type": "code",
   "execution_count": 29,
   "metadata": {
    "colab": {
     "base_uri": "https://localhost:8080/",
     "height": 814
    },
    "id": "_RG_eqI2BFzd",
    "outputId": "a9ee7a42-6921-49bf-886e-39609df4b98f"
   },
   "outputs": [
    {
     "data": {
      "image/png": "[encoded data removed]",
      "text/plain": [
       "<Figure size 540x540 with 12 Axes>"
      ]
     },
     "metadata": {
      "needs_background": "light"
     },
     "output_type": "display_data"
    }
   ],
   "source": [
    "selected_features = ['positive_ratio', 'user_reviews', 'price_final']\n",
    "sns.pairplot(final_df[selected_features])\n",
    "plt.suptitle('Pairplot of Selected Features')\n",
    "plt.show()"
   ]
  },
  {
   "cell_type": "markdown",
   "metadata": {
    "id": "DhmbaLgAUbP1"
   },
   "source": [
    "# Collaborative Filtering"
   ]
  },
  {
   "cell_type": "markdown",
   "metadata": {
    "id": "CyB4LQ6BKTuP"
   },
   "source": [
    "### SVD"
   ]
  },
  {
   "cell_type": "code",
   "execution_count": 30,
   "metadata": {
    "colab": {
     "base_uri": "https://localhost:8080/"
    },
    "id": "rJgexFbVUa3P",
    "outputId": "83a9bf83-db56-436a-ce7e-f13919853e8d"
   },
   "outputs": [
    {
     "name": "stdout",
     "output_type": "stream",
     "text": [
      "Defaulting to user installation because normal site-packages is not writeable\n",
      "Requirement already satisfied: scikit-surprise in /home/senthilnathan.l/.local/lib/python3.8/site-packages (1.1.3)\n",
      "Requirement already satisfied: numpy>=1.17.3 in /home/senthilnathan.l/.local/lib/python3.8/site-packages (from scikit-surprise) (1.22.4)\n",
      "Requirement already satisfied: joblib>=1.0.0 in /home/senthilnathan.l/.local/lib/python3.8/site-packages (from scikit-surprise) (1.3.2)\n",
      "Requirement already satisfied: scipy>=1.3.2 in /shared/centos7/anaconda3/2021.05/lib/python3.8/site-packages (from scikit-surprise) (1.6.2)\n"
     ]
    }
   ],
   "source": [
    "!pip install scikit-surprise"
   ]
  },
  {
   "cell_type": "code",
   "execution_count": 31,
   "metadata": {
    "colab": {
     "base_uri": "https://localhost:8080/"
    },
    "id": "bG0QGNQpMWEq",
    "outputId": "c0b80e12-768c-4017-f3c9-d101f76f4efd"
   },
   "outputs": [],
   "source": [
    "from surprise import Dataset, Reader\n",
    "from surprise.model_selection import train_test_split\n",
    "from surprise import SVD\n",
    "from surprise import accuracy\n"
   ]
  },
  {
   "cell_type": "code",
   "execution_count": 32,
   "metadata": {
    "colab": {
     "base_uri": "https://localhost:8080/"
    },
    "id": "VgjNUd3_Ui-g",
    "outputId": "fc39a7e5-0e25-4f0c-cb84-a07fbcc115a6"
   },
   "outputs": [
    {
     "name": "stdout",
     "output_type": "stream",
     "text": [
      "Accuracy: 0.8645281729984539\n",
      "Precision: 0.8685001624420678\n",
      "Recall: 0.9927967367034459\n",
      "F1 Score: 0.9264982147606194\n",
      "Evaluating RMSE, MAE of algorithm SVD on 5 split(s).\n",
      "\n",
      "                  Fold 1  Fold 2  Fold 3  Fold 4  Fold 5  Mean    Std     \n",
      "RMSE (testset)    0.3254  0.3261  0.3258  0.3256  0.3263  0.3259  0.0003  \n",
      "MAE (testset)     0.2082  0.2090  0.2085  0.2084  0.2091  0.2086  0.0003  \n",
      "Fit time          31.95   32.21   32.66   32.87   31.48   32.24   0.50    \n",
      "Test time         5.85    6.46    5.55    5.77    5.17    5.76    0.42    \n",
      "Average RMSE across folds (SVD): 0.3258589981505109\n",
      "Average MAE across folds (SVD): 0.20864573492263064\n"
     ]
    }
   ],
   "source": [
    "from surprise.model_selection import cross_validate\n",
    "from surprise import accuracy\n",
    "from sklearn.metrics import precision_score, recall_score, f1_score, accuracy_score\n",
    "\n",
    "# Create a Surprise dataset from your final_df\n",
    "reader = Reader(rating_scale=(0, 1))\n",
    "data = Dataset.load_from_df(final_df[['user_id', 'app_id', 'is_recommended']], reader)\n",
    "\n",
    "# Split the data into train and test sets\n",
    "trainset, testset = train_test_split(data, test_size=0.2, random_state=42)\n",
    "\n",
    "# Build a collaborative filtering model (SVD algorithm)\n",
    "model_svd = SVD()\n",
    "model_svd.fit(trainset)\n",
    "\n",
    "# Make predictions on the test set\n",
    "predictions = model_svd.test(testset)\n",
    "\n",
    "# Convert predictions to binary values (0 or 1)\n",
    "predicted_labels = [1 if pred.est >= 0.5 else 0 for pred in predictions]\n",
    "true_labels = [int(pred.r_ui) for pred in predictions]\n",
    "\n",
    "# Calculate and print accuracy, precision, recall, and F1 score\n",
    "accuracy_value_svd = accuracy_score(true_labels, predicted_labels)\n",
    "precision_value_svd = precision_score(true_labels, predicted_labels)\n",
    "recall_value_svd = recall_score(true_labels, predicted_labels)\n",
    "f1_value_svd = f1_score(true_labels, predicted_labels)\n",
    "\n",
    "print(f\"Accuracy: {accuracy_value_svd}\")\n",
    "print(f\"Precision: {precision_value_svd}\")\n",
    "print(f\"Recall: {recall_value_svd}\")\n",
    "print(f\"F1 Score: {f1_value_svd}\")\n",
    "\n",
    "# Cross-validate the model and include precision, recall, and F1 as additional metrics\n",
    "cv_results_svd = cross_validate(model_svd, data, measures=['RMSE', 'MAE'], cv=5, verbose=True, n_jobs=-1)\n",
    "                               # precision_at=[1, 5], recall_at=[1, 5], fcp=True)\n",
    "\n",
    "rmse_svd = sum(cv_results_svd['test_rmse']) / 5\n",
    "mae_svd = sum(cv_results_svd['test_mae']) / 5\n",
    "\n",
    "# Print the average RMSE, MAE, precision, recall, and F1 score across folds\n",
    "print(f\"Average RMSE across folds (SVD): {sum(cv_results_svd['test_rmse']) / 5}\")\n",
    "print(f\"Average MAE across folds (SVD): {sum(cv_results_svd['test_mae']) / 5}\")"
   ]
  },
  {
   "cell_type": "code",
   "execution_count": 33,
   "metadata": {
    "colab": {
     "base_uri": "https://localhost:8080/"
    },
    "id": "kH_jSmKvh-FN",
    "outputId": "f25d0b82-7f2c-4873-c251-2fefad239ba5"
   },
   "outputs": [
    {
     "name": "stdout",
     "output_type": "stream",
     "text": [
      "Top 10 recommendations for user 12517638:\n",
      "  Game Name: Quadrilateral Cowboy, App ID: 240440\n",
      "  Game Name: Bleed 2, App ID: 396350\n",
      "  Game Name: Putt-Putt® Goes to the Moon, App ID: 294650\n",
      "  Game Name: Cats in Time, App ID: 1599880\n",
      "  Game Name: Super Bit Blaster XL, App ID: 865040\n",
      "  Game Name: Zombie Estate 2, App ID: 512490\n",
      "  Game Name: SUPER CHICKEN JUMPER, App ID: 584640\n",
      "  Game Name: Blackwell Epiphany, App ID: 236930\n",
      "  Game Name: Enigmatis 2: The Mists of Ravenwood, App ID: 284770\n",
      "  Game Name: Primordia, App ID: 227000\n"
     ]
    }
   ],
   "source": [
    "# Function to get top N recommendations for a user\n",
    "def get_top_n_recommendations(model, user_id, n=10):\n",
    "    # Create a testset with the specified user ID\n",
    "    testset = [(user_id, app_id, 0) for app_id in final_df['app_id'].unique()]\n",
    "\n",
    "    # Predict ratings for the specified user\n",
    "    predictions = model.test(testset)\n",
    "\n",
    "    # Get the top N recommendations for the specified user\n",
    "    top_n = sorted(predictions, key=lambda x: x.est, reverse=True)[:n]\n",
    "\n",
    "    return top_n\n",
    "\n",
    "game_id_to_name_mapping = dict(zip(final_df['app_id'], final_df['title']))\n",
    "\n",
    "user_id_to_recommend = 12517638\n",
    "user_recommendations = get_top_n_recommendations(model_svd, user_id_to_recommend, n=10)\n",
    "\n",
    "# Print the top recommendations for the specified user in a more readable format\n",
    "print(f\"Top 10 recommendations for user {user_id_to_recommend}:\")\n",
    "for prediction in user_recommendations:\n",
    "    app_id = prediction.iid\n",
    "    est = prediction.est\n",
    "    game_name = game_id_to_name_mapping.get(app_id, \"Unknown Game\")\n",
    "    print(f\"  Game Name: {game_name}, App ID: {app_id}\")"
   ]
  },
  {
   "cell_type": "markdown",
   "metadata": {
    "id": "elu0e4sCE_lY"
   },
   "source": [
    "### Slope One"
   ]
  },
  {
   "cell_type": "code",
   "execution_count": 34,
   "metadata": {
    "colab": {
     "base_uri": "https://localhost:8080/"
    },
    "id": "_UDVXmbXE_lY",
    "outputId": "8537b6df-ddd2-4a02-ffc1-a0c4ef11c500"
   },
   "outputs": [
    {
     "name": "stdout",
     "output_type": "stream",
     "text": [
      "Accuracy: 0.8432553494932745\n",
      "Precision: 0.8709483554128967\n",
      "Recall: 0.9599864180894072\n",
      "F1 Score: 0.9133024334388006\n",
      "Evaluating RMSE, MAE of algorithm SlopeOne on 5 split(s).\n",
      "\n",
      "                  Fold 1  Fold 2  Fold 3  Fold 4  Fold 5  Mean    Std     \n",
      "RMSE (testset)    0.3712  0.3717  0.3718  0.3713  0.3716  0.3715  0.0002  \n",
      "MAE (testset)     0.2352  0.2357  0.2355  0.2354  0.2354  0.2354  0.0001  \n",
      "Fit time          27.54   33.06   26.88   27.29   24.71   27.90   2.77    \n",
      "Test time         7.83    8.38    6.80    6.71    5.99    7.14    0.85    \n",
      "Average RMSE across folds (SlopeOne CF): 0.37152444795003464\n",
      "Average MAE across folds (SlopeOne CF): 0.23544598108406314\n"
     ]
    }
   ],
   "source": [
    "from surprise import SlopeOne\n",
    "from surprise.model_selection import cross_validate\n",
    "from surprise import Dataset\n",
    "from surprise.model_selection import train_test_split\n",
    "import pandas as pd\n",
    "\n",
    "# Split the data into train and test sets\n",
    "trainset, testset = train_test_split(data, test_size=0.2, random_state=42)\n",
    "\n",
    "# Build the SlopeOne collaborative filtering model\n",
    "slope_one_model = SlopeOne()\n",
    "slope_one_model.fit(trainset)\n",
    "\n",
    "# Predict ratings for the test set\n",
    "predictions = slope_one_model.test(testset)\n",
    "\n",
    "# Convert predictions to binary values (0 or 1)\n",
    "predicted_labels = [1 if pred.est >= 0.5 else 0 for pred in predictions]\n",
    "true_labels = [int(pred.r_ui) for pred in predictions]\n",
    "\n",
    "# Calculate and print accuracy, precision, recall, and F1 score\n",
    "accuracy_value_slope_one = accuracy_score(true_labels, predicted_labels)\n",
    "precision_value_slope_one = precision_score(true_labels, predicted_labels)\n",
    "recall_value_slope_one = recall_score(true_labels, predicted_labels)\n",
    "f1_value_slope_one = f1_score(true_labels, predicted_labels)\n",
    "\n",
    "print(f\"Accuracy: {accuracy_value_slope_one}\")\n",
    "print(f\"Precision: {precision_value_slope_one}\")\n",
    "print(f\"Recall: {recall_value_slope_one}\")\n",
    "print(f\"F1 Score: {f1_value_slope_one}\")\n",
    "\n",
    "# Cross-validate the model\n",
    "cv_results_slope_one = cross_validate(slope_one_model, data, measures=['RMSE', 'MAE'], cv=5, verbose=True, n_jobs=-1)\n",
    "\n",
    "rmse_slope_one = sum(cv_results_slope_one['test_rmse']) / 5\n",
    "mae_slope_one = sum(cv_results_slope_one['test_mae']) / 5\n",
    "\n",
    "print(f\"Average RMSE across folds (SlopeOne CF): {sum(cv_results_slope_one['test_rmse']) / 5}\")\n",
    "print(f\"Average MAE across folds (SlopeOne CF): {sum(cv_results_slope_one['test_mae']) / 5}\")"
   ]
  },
  {
   "cell_type": "code",
   "execution_count": 35,
   "metadata": {
    "colab": {
     "base_uri": "https://localhost:8080/"
    },
    "id": "3ns7mYf8E_lY",
    "outputId": "adcc7507-083d-425e-896f-2feb761dc260"
   },
   "outputs": [
    {
     "name": "stdout",
     "output_type": "stream",
     "text": [
      "Top 10 recommendations for user 12517638:\n",
      "  Game Name: Prince of Persia: Warrior Within™, App ID: 13500\n",
      "  Game Name: Shakes and Fidget, App ID: 438040\n",
      "  Game Name: Team Fortress 2, App ID: 440\n",
      "  Game Name: Far Cry® 5, App ID: 552520\n",
      "  Game Name: Alan Wake, App ID: 108710\n",
      "  Game Name: Red Dead Redemption 2, App ID: 1174180\n",
      "  Game Name: Call of Duty® 2, App ID: 2630\n",
      "  Game Name: Assassin's Creed® Origins, App ID: 582160\n",
      "  Game Name: Dishonored 2, App ID: 403640\n",
      "  Game Name: Hitman: Codename 47, App ID: 6900\n"
     ]
    }
   ],
   "source": [
    "user_id_to_recommend = 12517638\n",
    "user_recommendations = get_top_n_recommendations(slope_one_model, user_id_to_recommend, n=10)\n",
    "\n",
    "# Print the top recommendations for the specified user in a more readable format\n",
    "print(f\"Top 10 recommendations for user {user_id_to_recommend}:\")\n",
    "for prediction in user_recommendations:\n",
    "    app_id = prediction.iid\n",
    "    est = prediction.est\n",
    "    game_name = game_id_to_name_mapping.get(app_id, \"Unknown Game\")\n",
    "    print(f\"  Game Name: {game_name}, App ID: {app_id}\")"
   ]
  },
  {
   "cell_type": "markdown",
   "metadata": {
    "id": "Axxh8VVsh113"
   },
   "source": [
    "### User- User model based on KNN"
   ]
  },
  {
   "cell_type": "code",
   "execution_count": 36,
   "metadata": {
    "colab": {
     "base_uri": "https://localhost:8080/"
    },
    "id": "C0BHQ-IFE_lY",
    "outputId": "a2453b88-326a-47f6-dfd0-8ddd9f8297f2"
   },
   "outputs": [
    {
     "name": "stdout",
     "output_type": "stream",
     "text": [
      "Defaulting to user installation because normal site-packages is not writeable\n",
      "Requirement already satisfied: mlxtend in /home/senthilnathan.l/.local/lib/python3.8/site-packages (0.23.0)\n",
      "Requirement already satisfied: joblib>=0.13.2 in /home/senthilnathan.l/.local/lib/python3.8/site-packages (from mlxtend) (1.3.2)\n",
      "Requirement already satisfied: scipy>=1.2.1 in /shared/centos7/anaconda3/2021.05/lib/python3.8/site-packages (from mlxtend) (1.6.2)\n",
      "Requirement already satisfied: matplotlib>=3.0.0 in /shared/centos7/anaconda3/2021.05/lib/python3.8/site-packages (from mlxtend) (3.3.4)\n",
      "Requirement already satisfied: scikit-learn>=1.0.2 in /home/senthilnathan.l/.local/lib/python3.8/site-packages (from mlxtend) (1.3.2)\n",
      "Requirement already satisfied: pandas>=0.24.2 in /home/senthilnathan.l/.local/lib/python3.8/site-packages (from mlxtend) (2.0.3)\n",
      "Requirement already satisfied: numpy>=1.16.2 in /home/senthilnathan.l/.local/lib/python3.8/site-packages (from mlxtend) (1.22.4)\n",
      "Requirement already satisfied: pyparsing!=2.0.4,!=2.1.2,!=2.1.6,>=2.0.3 in /shared/centos7/anaconda3/2021.05/lib/python3.8/site-packages (from matplotlib>=3.0.0->mlxtend) (2.4.7)\n",
      "Requirement already satisfied: pillow>=6.2.0 in /shared/centos7/anaconda3/2021.05/lib/python3.8/site-packages (from matplotlib>=3.0.0->mlxtend) (8.2.0)\n",
      "Requirement already satisfied: kiwisolver>=1.0.1 in /shared/centos7/anaconda3/2021.05/lib/python3.8/site-packages (from matplotlib>=3.0.0->mlxtend) (1.3.1)\n",
      "Requirement already satisfied: python-dateutil>=2.1 in /home/senthilnathan.l/.local/lib/python3.8/site-packages (from matplotlib>=3.0.0->mlxtend) (2.8.2)\n",
      "Requirement already satisfied: cycler>=0.10 in /shared/centos7/anaconda3/2021.05/lib/python3.8/site-packages (from matplotlib>=3.0.0->mlxtend) (0.10.0)\n",
      "Requirement already satisfied: six in /shared/centos7/anaconda3/2021.05/lib/python3.8/site-packages (from cycler>=0.10->matplotlib>=3.0.0->mlxtend) (1.15.0)\n",
      "Requirement already satisfied: pytz>=2020.1 in /shared/centos7/anaconda3/2021.05/lib/python3.8/site-packages (from pandas>=0.24.2->mlxtend) (2021.1)\n",
      "Requirement already satisfied: tzdata>=2022.1 in /home/senthilnathan.l/.local/lib/python3.8/site-packages (from pandas>=0.24.2->mlxtend) (2023.3)\n",
      "Requirement already satisfied: threadpoolctl>=2.0.0 in /shared/centos7/anaconda3/2021.05/lib/python3.8/site-packages (from scikit-learn>=1.0.2->mlxtend) (2.1.0)\n"
     ]
    }
   ],
   "source": [
    "!pip install mlxtend"
   ]
  },
  {
   "cell_type": "code",
   "execution_count": 37,
   "metadata": {
    "colab": {
     "base_uri": "https://localhost:8080/"
    },
    "id": "GxhTUgZZhHhW",
    "outputId": "14f9536d-ea5a-416c-b047-7531344d9098"
   },
   "outputs": [],
   "source": [
    "from sklearn.neighbors import NearestNeighbors\n",
    "from sklearn.feature_extraction.text import TfidfVectorizer\n",
    "from sklearn.metrics.pairwise import linear_kernel\n",
    "from scipy.sparse import csr_matrix\n",
    "from mlxtend.frequent_patterns import apriori, association_rules"
   ]
  },
  {
   "cell_type": "code",
   "execution_count": 38,
   "metadata": {
    "colab": {
     "base_uri": "https://localhost:8080/"
    },
    "id": "tpMrCF9ogzEP",
    "outputId": "d9d40890-7140-4778-abf7-606643b0246c"
   },
   "outputs": [
    {
     "name": "stderr",
     "output_type": "stream",
     "text": [
      "/shared/centos7/anaconda3/2021.05/lib/python3.8/site-packages/ipykernel/ipkernel.py:287: DeprecationWarning: `should_run_async` will not call `transform_cell` automatically in the future. Please pass the result to `transformed_cell` argument and any exception that happen during thetransform in `preprocessing_exc_tuple` in IPython 7.17 and above.\n",
      "  and should_run_async(code)\n"
     ]
    },
    {
     "name": "stdout",
     "output_type": "stream",
     "text": [
      "Recommended users for the first user are: [7136535.0, 11174408.0, 10074228.0, 94400.0, 3366927.0, 7994431.0, 7171348.0, 8233687.0, 11351485.0, 5800625.0]\n"
     ]
    }
   ],
   "source": [
    "from scipy.sparse import coo_matrix\n",
    "\n",
    "# map each user and item to a unique numeric value\n",
    "user_ids = final_df['user_id'].astype('category').cat.codes\n",
    "item_ids = final_df['app_id'].astype('category').cat.codes\n",
    "\n",
    "# Get the unique user and game ids\n",
    "unique_user_ids = final_df['user_id'].astype('category').cat.categories\n",
    "unique_item_ids = final_df['app_id'].astype('category').cat.categories\n",
    "\n",
    "# create a sparse matrix\n",
    "user_game_matrix = coo_matrix((final_df['hours'], (user_ids, item_ids)))\n",
    "\n",
    "# Fit the model\n",
    "model_knn = NearestNeighbors(metric='cosine', algorithm='brute')\n",
    "model_knn.fit(user_game_matrix)\n",
    "\n",
    "# Get top 10 recommendations for first user\n",
    "distances, indices = model_knn.kneighbors(user_game_matrix.getrow(0), n_neighbors=11)  # Set n_neighbors to 11\n",
    "recommended_users = [unique_user_ids[i] for i in indices.flatten()[1:]]\n",
    "print(f'Recommended users for the first user are: {recommended_users}')"
   ]
  },
  {
   "cell_type": "code",
   "execution_count": 39,
   "metadata": {
    "colab": {
     "base_uri": "https://localhost:8080/"
    },
    "id": "RvP8hLUM4Zw9",
    "outputId": "bfc26275-1046-4034-8811-9812345493c5"
   },
   "outputs": [
    {
     "name": "stderr",
     "output_type": "stream",
     "text": [
      "/shared/centos7/anaconda3/2021.05/lib/python3.8/site-packages/ipykernel/ipkernel.py:287: DeprecationWarning: `should_run_async` will not call `transform_cell` automatically in the future. Please pass the result to `transformed_cell` argument and any exception that happen during thetransform in `preprocessing_exc_tuple` in IPython 7.17 and above.\n",
      "  and should_run_async(code)\n"
     ]
    },
    {
     "name": "stdout",
     "output_type": "stream",
     "text": [
      "Recommended users for the first user are: [69484.0, 13285.0, 27512.0, 34347.0, 29361.0, 42078.0, 44936.0, 42879.0, 75815.0, 15592.0]\n",
      "Recommended games for the first user are: ['BrainPower', 'Nicolas Eymerich The Inquisitor Book II : The Village', 'Fill Up!', 'Half-Life: A Place in the West', 'Plastiland', 'Train Mechanic Simulator 2017', 'Pandarama: The Lost Toys', 'The Land of Dasthir', '校园恋物语|Love in School', 'Kings of Kung Fu']\n"
     ]
    }
   ],
   "source": [
    "from sklearn.neighbors import NearestNeighbors\n",
    "from scipy.sparse import coo_matrix\n",
    "\n",
    "# map each user and item to a unique numeric value\n",
    "user_ids = final_df['user_id'].astype('category').cat.codes\n",
    "item_ids = final_df['app_id'].astype('category').cat.codes\n",
    "\n",
    "# Get the unique user and game ids\n",
    "unique_user_ids = final_df['user_id'].astype('category').cat.categories\n",
    "unique_item_ids = final_df['app_id'].astype('category').cat.categories\n",
    "\n",
    "# create a sparse matrix\n",
    "user_game_matrix = coo_matrix((final_df['hours'], (user_ids, item_ids)))\n",
    "\n",
    "# Fit the model\n",
    "model_knn = NearestNeighbors(metric='cosine', algorithm='brute', n_jobs=-1)\n",
    "model_knn.fit(user_game_matrix.T)  # Transpose the matrix to switch roles of users and items\n",
    "\n",
    "# Get top 10 recommendations for the first user\n",
    "distances, indices = model_knn.kneighbors(user_game_matrix.getcol(0).T, n_neighbors=11)  # Set n_neighbors to 11\n",
    "recommended_users = [unique_user_ids[i] for i in indices.flatten()[1:]]\n",
    "print(f'Recommended users for the first user are: {recommended_users}')\n",
    "\n",
    "recommended_games = [unique_item_ids[i] for i in indices.flatten()[1:]]\n",
    "\n",
    "# Map game IDs to game names\n",
    "recommended_game_names = [final_df[final_df['app_id'] == app_id]['title'].iloc[0] for app_id in recommended_games]\n",
    "\n",
    "print(f'Recommended games for the first user are: {recommended_game_names}')\n"
   ]
  },
  {
   "cell_type": "markdown",
   "metadata": {
    "id": "TzEp9jy9K_dQ"
   },
   "source": [
    "## Matrix Factorization-Based Collaborative Filtering"
   ]
  },
  {
   "cell_type": "markdown",
   "metadata": {
    "id": "oRbuQMt8Zvo5"
   },
   "source": [
    "### Alternating Least Squares (ALS) - Novel Feature"
   ]
  },
  {
   "cell_type": "code",
   "execution_count": 40,
   "metadata": {
    "colab": {
     "base_uri": "https://localhost:8080/"
    },
    "id": "oemfGO8aZsYq",
    "outputId": "157c0f01-4cd1-40fe-92e0-2e12fb79083a"
   },
   "outputs": [
    {
     "name": "stderr",
     "output_type": "stream",
     "text": [
      "/shared/centos7/anaconda3/2021.05/lib/python3.8/site-packages/ipykernel/ipkernel.py:287: DeprecationWarning: `should_run_async` will not call `transform_cell` automatically in the future. Please pass the result to `transformed_cell` argument and any exception that happen during thetransform in `preprocessing_exc_tuple` in IPython 7.17 and above.\n",
      "  and should_run_async(code)\n"
     ]
    },
    {
     "name": "stdout",
     "output_type": "stream",
     "text": [
      "Accuracy: 0.6026370062131559\n",
      "Precision: 0.8705775475894619\n",
      "Recall: 0.6318968744931416\n",
      "F1 Score: 0.7322789968872306\n",
      "Evaluating RMSE, MAE of algorithm SVD on 5 split(s).\n",
      "\n",
      "                  Fold 1  Fold 2  Fold 3  Fold 4  Fold 5  Mean    Std     \n",
      "RMSE (testset)    0.5877  0.5871  0.5872  0.5876  0.5870  0.5873  0.0003  \n",
      "MAE (testset)     0.4431  0.4423  0.4425  0.4429  0.4422  0.4426  0.0004  \n",
      "Fit time          33.31   32.28   31.95   32.48   31.15   32.24   0.70    \n",
      "Test time         5.26    4.26    4.25    4.50    4.21    4.49    0.40    \n",
      "Average RMSE across folds (ALS): 0.5873322860300132\n",
      "Average MAE across folds (ALS): 0.4426075381968042\n"
     ]
    }
   ],
   "source": [
    "from surprise import SVD\n",
    "from surprise import Dataset, Reader\n",
    "from surprise.model_selection import cross_validate\n",
    "\n",
    "reader = Reader(rating_scale=(0, 1))\n",
    "data = Dataset.load_from_df(final_df[['user_id', 'app_id', 'is_recommended']], reader)\n",
    "\n",
    "# Split the data into train and test sets\n",
    "trainset, testset = train_test_split(data, test_size=0.2, random_state=42)\n",
    "\n",
    "# Build a collaborative filtering model (ALS algorithm)\n",
    "als_model = SVD(biased=False, n_epochs=20, lr_all=0.005, reg_all=0.02)\n",
    "als_model.fit(trainset)\n",
    "\n",
    "# Predict ratings for the test set\n",
    "predictions = als_model.test(testset)\n",
    "\n",
    "# Convert predictions to binary values (0 or 1)\n",
    "predicted_labels = [1 if pred.est >= 0.5 else 0 for pred in predictions]\n",
    "true_labels = [int(pred.r_ui) for pred in predictions]\n",
    "\n",
    "# Calculate and print accuracy, precision, recall, and F1 score\n",
    "accuracy_value_als = accuracy_score(true_labels, predicted_labels)\n",
    "precision_value_als = precision_score(true_labels, predicted_labels)\n",
    "recall_value_als = recall_score(true_labels, predicted_labels)\n",
    "f1_value_als = f1_score(true_labels, predicted_labels)\n",
    "\n",
    "print(f\"Accuracy: {accuracy_value_als}\")\n",
    "print(f\"Precision: {precision_value_als}\")\n",
    "print(f\"Recall: {recall_value_als}\")\n",
    "print(f\"F1 Score: {f1_value_als}\")\n",
    "\n",
    "# Cross-validate the model\n",
    "cv_results_als = cross_validate(als_model, data, measures=['RMSE', 'MAE'], cv=5, verbose=True, n_jobs=-1)\n",
    "\n",
    "rmse_als = sum(cv_results_als['test_rmse']) / 5\n",
    "mae_als = sum(cv_results_als['test_mae']) / 5\n",
    "\n",
    "# Print the average RMSE and MAE\n",
    "print(f\"Average RMSE across folds (ALS): {sum(cv_results_als['test_rmse']) / 5}\")\n",
    "print(f\"Average MAE across folds (ALS): {sum(cv_results_als['test_mae']) / 5}\")"
   ]
  },
  {
   "cell_type": "code",
   "execution_count": 41,
   "metadata": {
    "colab": {
     "base_uri": "https://localhost:8080/"
    },
    "id": "jLJKNHaFE_lZ",
    "outputId": "e0c45c63-09a6-41e5-e55f-532a1263f418"
   },
   "outputs": [
    {
     "name": "stderr",
     "output_type": "stream",
     "text": [
      "/shared/centos7/anaconda3/2021.05/lib/python3.8/site-packages/ipykernel/ipkernel.py:287: DeprecationWarning: `should_run_async` will not call `transform_cell` automatically in the future. Please pass the result to `transformed_cell` argument and any exception that happen during thetransform in `preprocessing_exc_tuple` in IPython 7.17 and above.\n",
      "  and should_run_async(code)\n"
     ]
    },
    {
     "name": "stdout",
     "output_type": "stream",
     "text": [
      "Top 10 recommendations for user 12517638:\n",
      "  Game Name: Prince of Persia: Warrior Within™, App ID: 13500\n",
      "  Game Name: Shakes and Fidget, App ID: 438040\n",
      "  Game Name: Team Fortress 2, App ID: 440\n",
      "  Game Name: Far Cry® 5, App ID: 552520\n",
      "  Game Name: Alan Wake, App ID: 108710\n",
      "  Game Name: Red Dead Redemption 2, App ID: 1174180\n",
      "  Game Name: Call of Duty® 2, App ID: 2630\n",
      "  Game Name: Assassin's Creed® Origins, App ID: 582160\n",
      "  Game Name: Dishonored 2, App ID: 403640\n",
      "  Game Name: Hitman: Codename 47, App ID: 6900\n"
     ]
    }
   ],
   "source": [
    "user_id_to_recommend = 12517638\n",
    "user_recommendations = get_top_n_recommendations(als_model, user_id_to_recommend, n=10)\n",
    "\n",
    "# Print the top recommendations for the specified user in a more readable format\n",
    "print(f\"Top 10 recommendations for user {user_id_to_recommend}:\")\n",
    "for prediction in user_recommendations:\n",
    "    app_id = prediction.iid\n",
    "    est = prediction.est\n",
    "    game_name = game_id_to_name_mapping.get(app_id, \"Unknown Game\")\n",
    "    print(f\"  Game Name: {game_name}, App ID: {app_id}\")"
   ]
  },
  {
   "cell_type": "markdown",
   "metadata": {
    "id": "o6xEnbcQLfi0"
   },
   "source": [
    "### Non-Negative Matrix Factorization (NMF)"
   ]
  },
  {
   "cell_type": "code",
   "execution_count": 42,
   "metadata": {
    "colab": {
     "base_uri": "https://localhost:8080/"
    },
    "id": "G_ay2FNxLRkS",
    "outputId": "dcd04a17-a487-47cc-f4c4-fd017b901103"
   },
   "outputs": [
    {
     "name": "stderr",
     "output_type": "stream",
     "text": [
      "/shared/centos7/anaconda3/2021.05/lib/python3.8/site-packages/ipykernel/ipkernel.py:287: DeprecationWarning: `should_run_async` will not call `transform_cell` automatically in the future. Please pass the result to `transformed_cell` argument and any exception that happen during thetransform in `preprocessing_exc_tuple` in IPython 7.17 and above.\n",
      "  and should_run_async(code)\n"
     ]
    },
    {
     "name": "stdout",
     "output_type": "stream",
     "text": [
      "Accuracy: 0.8445615983688837\n",
      "Precision: 0.8732914226828618\n",
      "Recall: 0.9583038376476616\n",
      "F1 Score: 0.9138247295865488\n",
      "Evaluating RMSE, MAE of algorithm NMF on 5 split(s).\n",
      "\n",
      "                  Fold 1  Fold 2  Fold 3  Fold 4  Fold 5  Mean    Std     \n",
      "RMSE (testset)    0.3668  0.3672  0.3668  0.3675  0.3668  0.3670  0.0003  \n",
      "MAE (testset)     0.2671  0.2675  0.2669  0.2676  0.2671  0.2673  0.0003  \n",
      "Fit time          132.28  131.55  131.82  131.43  130.20  131.46  0.69    \n",
      "Test time         5.53    4.69    4.75    4.51    4.41    4.78    0.39    \n",
      "Average RMSE across folds (NMF): 0.367025247858495\n",
      "Average MAE across folds (NMF): 0.26725138101917817\n"
     ]
    }
   ],
   "source": [
    "from surprise.model_selection import cross_validate\n",
    "from surprise import NMF\n",
    "\n",
    "# Build a collaborative filtering model (NMF algorithm)\n",
    "nmf_model = NMF()\n",
    "nmf_model.fit(trainset)\n",
    "\n",
    "# Predict ratings for the test set\n",
    "predictions = nmf_model.test(testset)\n",
    "\n",
    "# Convert predictions to binary values (0 or 1)\n",
    "predicted_labels = [1 if pred.est >= 0.5 else 0 for pred in predictions]\n",
    "true_labels = [int(pred.r_ui) for pred in predictions]\n",
    "\n",
    "# Calculate and print accuracy, precision, recall, and F1 score\n",
    "accuracy_value_nmf = accuracy_score(true_labels, predicted_labels)\n",
    "precision_value_nmf = precision_score(true_labels, predicted_labels)\n",
    "recall_value_nmf = recall_score(true_labels, predicted_labels)\n",
    "f1_value_nmf = f1_score(true_labels, predicted_labels)\n",
    "\n",
    "print(f\"Accuracy: {accuracy_value_nmf}\")\n",
    "print(f\"Precision: {precision_value_nmf}\")\n",
    "print(f\"Recall: {recall_value_nmf}\")\n",
    "print(f\"F1 Score: {f1_value_nmf}\")\n",
    "\n",
    "# Cross-validate the model\n",
    "cv_results_nmf = cross_validate(nmf_model, data, measures=['RMSE', 'MAE'], cv=5, verbose=True, n_jobs=-1)\n",
    "\n",
    "rmse_nmf = sum(cv_results_nmf['test_rmse']) / 5\n",
    "mae_nmf = sum(cv_results_nmf['test_mae']) / 5\n",
    "\n",
    "# Print the average RMSE and MAE\n",
    "print(f\"Average RMSE across folds (NMF): {sum(cv_results_nmf['test_rmse']) / 5}\")\n",
    "print(f\"Average MAE across folds (NMF): {sum(cv_results_nmf['test_mae']) / 5}\")\n"
   ]
  },
  {
   "cell_type": "code",
   "execution_count": 43,
   "metadata": {
    "colab": {
     "base_uri": "https://localhost:8080/"
    },
    "id": "t_b6ew86E_lZ",
    "outputId": "0c8f5cec-c4bb-449b-a1ff-2c3263ab22ca"
   },
   "outputs": [
    {
     "name": "stderr",
     "output_type": "stream",
     "text": [
      "/shared/centos7/anaconda3/2021.05/lib/python3.8/site-packages/ipykernel/ipkernel.py:287: DeprecationWarning: `should_run_async` will not call `transform_cell` automatically in the future. Please pass the result to `transformed_cell` argument and any exception that happen during thetransform in `preprocessing_exc_tuple` in IPython 7.17 and above.\n",
      "  and should_run_async(code)\n"
     ]
    },
    {
     "name": "stdout",
     "output_type": "stream",
     "text": [
      "Top 10 recommendations for user 12517638:\n",
      "  Game Name: Prince of Persia: Warrior Within™, App ID: 13500\n",
      "  Game Name: Shakes and Fidget, App ID: 438040\n",
      "  Game Name: Team Fortress 2, App ID: 440\n",
      "  Game Name: Far Cry® 5, App ID: 552520\n",
      "  Game Name: Alan Wake, App ID: 108710\n",
      "  Game Name: Red Dead Redemption 2, App ID: 1174180\n",
      "  Game Name: Call of Duty® 2, App ID: 2630\n",
      "  Game Name: Assassin's Creed® Origins, App ID: 582160\n",
      "  Game Name: Dishonored 2, App ID: 403640\n",
      "  Game Name: Hitman: Codename 47, App ID: 6900\n"
     ]
    }
   ],
   "source": [
    "user_id_to_recommend = 12517638\n",
    "user_recommendations = get_top_n_recommendations(nmf_model, user_id_to_recommend, n=10)\n",
    "\n",
    "# Print the top recommendations for the specified user in a more readable format\n",
    "print(f\"Top 10 recommendations for user {user_id_to_recommend}:\")\n",
    "for prediction in user_recommendations:\n",
    "    app_id = prediction.iid\n",
    "    est = prediction.est\n",
    "    game_name = game_id_to_name_mapping.get(app_id, \"Unknown Game\")\n",
    "    print(f\"  Game Name: {game_name}, App ID: {app_id}\")"
   ]
  },
  {
   "cell_type": "markdown",
   "metadata": {
    "id": "5gWavViLabEc"
   },
   "source": [
    "## Memory-Based Collaborative Filtering:"
   ]
  },
  {
   "cell_type": "markdown",
   "metadata": {
    "id": "CG_p60tOaOnv"
   },
   "source": [
    "### Item-Based Collaborative Filtering:"
   ]
  },
  {
   "cell_type": "code",
   "execution_count": 44,
   "metadata": {
    "colab": {
     "base_uri": "https://localhost:8080/"
    },
    "id": "w1gcdD1laPpw",
    "outputId": "55adfbe3-8047-46dc-a495-911704f074d3"
   },
   "outputs": [
    {
     "name": "stdout",
     "output_type": "stream",
     "text": [
      "Computing the msd similarity matrix...\n"
     ]
    },
    {
     "name": "stderr",
     "output_type": "stream",
     "text": [
      "/shared/centos7/anaconda3/2021.05/lib/python3.8/site-packages/ipykernel/ipkernel.py:287: DeprecationWarning: `should_run_async` will not call `transform_cell` automatically in the future. Please pass the result to `transformed_cell` argument and any exception that happen during thetransform in `preprocessing_exc_tuple` in IPython 7.17 and above.\n",
      "  and should_run_async(code)\n"
     ]
    },
    {
     "name": "stdout",
     "output_type": "stream",
     "text": [
      "Done computing similarity matrix.\n",
      "Accuracy: 0.8485038105443746\n",
      "Precision: 0.8663419526787556\n",
      "Recall: 0.9741322205059565\n",
      "F1 Score: 0.9170806332154106\n",
      "Evaluating RMSE, MAE of algorithm KNNBasic on 5 split(s).\n",
      "\n",
      "                  Fold 1  Fold 2  Fold 3  Fold 4  Fold 5  Mean    Std     \n",
      "RMSE (testset)    0.3658  0.3663  0.3666  0.3662  0.3655  0.3661  0.0004  \n",
      "MAE (testset)     0.2289  0.2293  0.2295  0.2293  0.2288  0.2292  0.0003  \n",
      "Fit time          15.20   13.17   16.06   14.88   13.26   14.51   1.13    \n",
      "Test time         7.90    8.31    7.74    6.72    6.16    7.37    0.80    \n",
      "Average RMSE across folds (Item-Based CF): 0.36607516470342416\n",
      "Average MAE across folds (Item-Based CF): 0.22915778496240521\n"
     ]
    }
   ],
   "source": [
    "from surprise import KNNBasic\n",
    "\n",
    "# Build a collaborative filtering model (Item-Based k-NN algorithm)\n",
    "item_based_model = KNNBasic(sim_options={'user_based': False}, verbose=1)\n",
    "item_based_model.fit(trainset)\n",
    "\n",
    "# Predict ratings for the test set\n",
    "predictions = item_based_model.test(testset)\n",
    "\n",
    "# Convert predictions to binary values (0 or 1)\n",
    "predicted_labels = [1 if pred.est >= 0.5 else 0 for pred in predictions]\n",
    "true_labels = [int(pred.r_ui) for pred in predictions]\n",
    "\n",
    "# Calculate and print accuracy, precision, recall, and F1 score\n",
    "accuracy_value_item_based = accuracy_score(true_labels, predicted_labels)\n",
    "precision_value_item_based = precision_score(true_labels, predicted_labels)\n",
    "recall_value_item_based = recall_score(true_labels, predicted_labels)\n",
    "f1_value_item_based = f1_score(true_labels, predicted_labels)\n",
    "\n",
    "print(f\"Accuracy: {accuracy_value_item_based}\")\n",
    "print(f\"Precision: {precision_value_item_based}\")\n",
    "print(f\"Recall: {recall_value_item_based}\")\n",
    "print(f\"F1 Score: {f1_value_item_based}\")\n",
    "\n",
    "# Cross-validate the model\n",
    "cv_results_item_based = cross_validate(item_based_model, data, measures=['RMSE', 'MAE'], cv=5, verbose=True, n_jobs=-1)\n",
    "\n",
    "rmse_item_based = sum(cv_results_item_based['test_rmse']) / 5\n",
    "mae_item_based = sum(cv_results_item_based['test_mae']) / 5\n",
    "\n",
    "# Print the average RMSE and MAE\n",
    "print(f\"Average RMSE across folds (Item-Based CF): {sum(cv_results_item_based['test_rmse']) / 5}\")\n",
    "print(f\"Average MAE across folds (Item-Based CF): {sum(cv_results_item_based['test_mae']) / 5}\")\n"
   ]
  },
  {
   "cell_type": "code",
   "execution_count": 45,
   "metadata": {
    "colab": {
     "base_uri": "https://localhost:8080/"
    },
    "id": "Q2XG2gX21A8k",
    "outputId": "e1a39ff1-a2ab-482e-815a-c941114dd7ad"
   },
   "outputs": [
    {
     "name": "stderr",
     "output_type": "stream",
     "text": [
      "/shared/centos7/anaconda3/2021.05/lib/python3.8/site-packages/ipykernel/ipkernel.py:287: DeprecationWarning: `should_run_async` will not call `transform_cell` automatically in the future. Please pass the result to `transformed_cell` argument and any exception that happen during thetransform in `preprocessing_exc_tuple` in IPython 7.17 and above.\n",
      "  and should_run_async(code)\n"
     ]
    },
    {
     "name": "stdout",
     "output_type": "stream",
     "text": [
      "Top 10 recommendations for user 12517638:\n",
      "  Game Name: Prince of Persia: Warrior Within™, App ID: 13500\n",
      "  Game Name: Shakes and Fidget, App ID: 438040\n",
      "  Game Name: Team Fortress 2, App ID: 440\n",
      "  Game Name: Far Cry® 5, App ID: 552520\n",
      "  Game Name: Alan Wake, App ID: 108710\n",
      "  Game Name: Red Dead Redemption 2, App ID: 1174180\n",
      "  Game Name: Call of Duty® 2, App ID: 2630\n",
      "  Game Name: Assassin's Creed® Origins, App ID: 582160\n",
      "  Game Name: Dishonored 2, App ID: 403640\n",
      "  Game Name: Hitman: Codename 47, App ID: 6900\n"
     ]
    }
   ],
   "source": [
    "user_id_to_recommend = 12517638\n",
    "user_recommendations = get_top_n_recommendations(item_based_model, user_id_to_recommend, n=10)\n",
    "\n",
    "# Print the top recommendations for the specified user in a more readable format\n",
    "print(f\"Top 10 recommendations for user {user_id_to_recommend}:\")\n",
    "for prediction in user_recommendations:\n",
    "    app_id = prediction.iid\n",
    "    est = prediction.est\n",
    "    game_name = game_id_to_name_mapping.get(app_id, \"Unknown Game\")\n",
    "    print(f\"  Game Name: {game_name}, App ID: {app_id}\")"
   ]
  },
  {
   "cell_type": "markdown",
   "metadata": {
    "id": "zvOi-H98bUof"
   },
   "source": [
    "## Model-Based Collaborative Filtering"
   ]
  },
  {
   "cell_type": "markdown",
   "metadata": {
    "id": "-VJyg5PKbkaN"
   },
   "source": [
    "### BaselineOnly"
   ]
  },
  {
   "cell_type": "code",
   "execution_count": 46,
   "metadata": {
    "colab": {
     "base_uri": "https://localhost:8080/"
    },
    "id": "87FO3POIbV7i",
    "outputId": "e2300caf-0e3f-4592-9bd7-0746a2557f6f"
   },
   "outputs": [
    {
     "name": "stdout",
     "output_type": "stream",
     "text": [
      "Estimating biases using als...\n"
     ]
    },
    {
     "name": "stderr",
     "output_type": "stream",
     "text": [
      "/shared/centos7/anaconda3/2021.05/lib/python3.8/site-packages/ipykernel/ipkernel.py:287: DeprecationWarning: `should_run_async` will not call `transform_cell` automatically in the future. Please pass the result to `transformed_cell` argument and any exception that happen during thetransform in `preprocessing_exc_tuple` in IPython 7.17 and above.\n",
      "  and should_run_async(code)\n"
     ]
    },
    {
     "name": "stdout",
     "output_type": "stream",
     "text": [
      "Accuracy: 0.8641279550295796\n",
      "Precision: 0.8674852470295589\n",
      "Recall: 0.9938259908655588\n",
      "F1 Score: 0.9263677859328384\n",
      "Evaluating RMSE, MAE of algorithm BaselineOnly on 5 split(s).\n",
      "\n",
      "                  Fold 1  Fold 2  Fold 3  Fold 4  Fold 5  Mean    Std     \n",
      "RMSE (testset)    0.3252  0.3248  0.3254  0.3247  0.3253  0.3251  0.0003  \n",
      "MAE (testset)     0.2116  0.2115  0.2118  0.2114  0.2118  0.2116  0.0001  \n",
      "Fit time          6.11    6.20    6.20    6.33    5.84    6.14    0.16    \n",
      "Test time         3.88    3.98    4.33    3.15    3.07    3.68    0.49    \n",
      "Average RMSE across folds (BaselineOnly): 0.3250579806317162\n",
      "Average MAE across folds (BaselineOnly): 0.2116221817853378\n"
     ]
    }
   ],
   "source": [
    "from surprise import BaselineOnly\n",
    "\n",
    "# Build a collaborative filtering model (BaselineOnly algorithm)\n",
    "baseline_model = BaselineOnly(verbose=1)\n",
    "baseline_model.fit(trainset)\n",
    "\n",
    "# Predict ratings for the test set\n",
    "predictions = baseline_model.test(testset)\n",
    "\n",
    "# Convert predictions to binary values (0 or 1)\n",
    "predicted_labels = [1 if pred.est >= 0.5 else 0 for pred in predictions]\n",
    "true_labels = [int(pred.r_ui) for pred in predictions]\n",
    "\n",
    "# Calculate and print accuracy, precision, recall, and F1 score\n",
    "accuracy_value_baseline = accuracy_score(true_labels, predicted_labels)\n",
    "precision_value_baseline = precision_score(true_labels, predicted_labels)\n",
    "recall_value_baseline = recall_score(true_labels, predicted_labels)\n",
    "f1_value_baseline = f1_score(true_labels, predicted_labels)\n",
    "\n",
    "print(f\"Accuracy: {accuracy_value_baseline}\")\n",
    "print(f\"Precision: {precision_value_baseline}\")\n",
    "print(f\"Recall: {recall_value_baseline}\")\n",
    "print(f\"F1 Score: {f1_value_baseline}\")\n",
    "\n",
    "cv_results_baseline = cross_validate(baseline_model, data, measures=['RMSE', 'MAE'], cv=5, verbose=True, n_jobs=-1)\n",
    "\n",
    "rmse_baseline = sum(cv_results_baseline['test_rmse']) / 5\n",
    "mae_baseline = sum(cv_results_baseline['test_mae']) / 5\n",
    "\n",
    "print(f\"Average RMSE across folds (BaselineOnly): {sum(cv_results_baseline['test_rmse']) / 5}\")\n",
    "print(f\"Average MAE across folds (BaselineOnly): {sum(cv_results_baseline['test_mae']) / 5}\")"
   ]
  },
  {
   "cell_type": "code",
   "execution_count": 47,
   "metadata": {
    "colab": {
     "base_uri": "https://localhost:8080/"
    },
    "id": "NM51cJmm1A8l",
    "outputId": "73c9fce6-cf4b-4217-ef2b-54f7cb7cc494"
   },
   "outputs": [
    {
     "name": "stderr",
     "output_type": "stream",
     "text": [
      "/shared/centos7/anaconda3/2021.05/lib/python3.8/site-packages/ipykernel/ipkernel.py:287: DeprecationWarning: `should_run_async` will not call `transform_cell` automatically in the future. Please pass the result to `transformed_cell` argument and any exception that happen during thetransform in `preprocessing_exc_tuple` in IPython 7.17 and above.\n",
      "  and should_run_async(code)\n"
     ]
    },
    {
     "name": "stdout",
     "output_type": "stream",
     "text": [
      "Top 10 recommendations for user 12517638:\n",
      "  Game Name: Primordia, App ID: 227000\n",
      "  Game Name: TOEM, App ID: 1307580\n",
      "  Game Name: Before Your Eyes, App ID: 1082430\n",
      "  Game Name: Terraria, App ID: 105600\n",
      "  Game Name: Word Game: Episode 0, App ID: 1507970\n",
      "  Game Name: Senren＊Banka, App ID: 1144400\n",
      "  Game Name: Kind Words (lo fi chill beats to write to), App ID: 1070710\n",
      "  Game Name: A Short Hike, App ID: 1055540\n",
      "  Game Name: planetarian HD, App ID: 623080\n",
      "  Game Name: The Pedestrian, App ID: 466630\n"
     ]
    }
   ],
   "source": [
    "user_id_to_recommend = 12517638\n",
    "user_recommendations = get_top_n_recommendations(baseline_model, user_id_to_recommend, n=10)\n",
    "\n",
    "# Print the top recommendations for the specified user in a more readable format\n",
    "print(f\"Top 10 recommendations for user {user_id_to_recommend}:\")\n",
    "for prediction in user_recommendations:\n",
    "    app_id = prediction.iid\n",
    "    est = prediction.est\n",
    "    game_name = game_id_to_name_mapping.get(app_id, \"Unknown Game\")\n",
    "    print(f\"  Game Name: {game_name}, App ID: {app_id}\")"
   ]
  },
  {
   "cell_type": "markdown",
   "metadata": {
    "id": "JfZxt4njFjHt"
   },
   "source": [
    "## Addressing bias and fairness"
   ]
  },
  {
   "cell_type": "markdown",
   "metadata": {
    "id": "N17FMK0HFkY6"
   },
   "source": [
    "### AIF360 toolkit for algorithmic fairness"
   ]
  },
  {
   "cell_type": "code",
   "execution_count": 51,
   "metadata": {
    "colab": {
     "base_uri": "https://localhost:8080/"
    },
    "id": "hZ77DJ8jFjwa",
    "outputId": "1edbd82c-9738-4966-e0d6-51bf04ae646f"
   },
   "outputs": [
    {
     "name": "stderr",
     "output_type": "stream",
     "text": [
      "/shared/centos7/anaconda3/2021.05/lib/python3.8/site-packages/ipykernel/ipkernel.py:287: DeprecationWarning: `should_run_async` will not call `transform_cell` automatically in the future. Please pass the result to `transformed_cell` argument and any exception that happen during thetransform in `preprocessing_exc_tuple` in IPython 7.17 and above.\n",
      "  and should_run_async(code)\n"
     ]
    },
    {
     "name": "stdout",
     "output_type": "stream",
     "text": [
      "Defaulting to user installation because normal site-packages is not writeable\n",
      "Requirement already satisfied: aif360[LawSchoolGPA] in /home/senthilnathan.l/.local/lib/python3.8/site-packages (0.5.0)\n",
      "Requirement already satisfied: scikit-learn>=1.0 in /home/senthilnathan.l/.local/lib/python3.8/site-packages (from aif360[LawSchoolGPA]) (1.3.2)\n",
      "Requirement already satisfied: scipy>=1.2.0 in /shared/centos7/anaconda3/2021.05/lib/python3.8/site-packages (from aif360[LawSchoolGPA]) (1.6.2)\n",
      "Requirement already satisfied: matplotlib in /shared/centos7/anaconda3/2021.05/lib/python3.8/site-packages (from aif360[LawSchoolGPA]) (3.3.4)\n",
      "Requirement already satisfied: numpy>=1.16 in /home/senthilnathan.l/.local/lib/python3.8/site-packages (from aif360[LawSchoolGPA]) (1.22.4)\n",
      "Requirement already satisfied: pandas>=0.24.0 in /home/senthilnathan.l/.local/lib/python3.8/site-packages (from aif360[LawSchoolGPA]) (2.0.3)\n",
      "Collecting tempeh\n",
      "  Downloading tempeh-0.1.12-py3-none-any.whl (39 kB)\n",
      "Requirement already satisfied: tzdata>=2022.1 in /home/senthilnathan.l/.local/lib/python3.8/site-packages (from pandas>=0.24.0->aif360[LawSchoolGPA]) (2023.3)\n",
      "Requirement already satisfied: pytz>=2020.1 in /shared/centos7/anaconda3/2021.05/lib/python3.8/site-packages (from pandas>=0.24.0->aif360[LawSchoolGPA]) (2021.1)\n",
      "Requirement already satisfied: python-dateutil>=2.8.2 in /home/senthilnathan.l/.local/lib/python3.8/site-packages (from pandas>=0.24.0->aif360[LawSchoolGPA]) (2.8.2)\n",
      "Requirement already satisfied: six>=1.5 in /shared/centos7/anaconda3/2021.05/lib/python3.8/site-packages (from python-dateutil>=2.8.2->pandas>=0.24.0->aif360[LawSchoolGPA]) (1.15.0)\n",
      "Requirement already satisfied: threadpoolctl>=2.0.0 in /shared/centos7/anaconda3/2021.05/lib/python3.8/site-packages (from scikit-learn>=1.0->aif360[LawSchoolGPA]) (2.1.0)\n",
      "Requirement already satisfied: joblib>=1.1.1 in /home/senthilnathan.l/.local/lib/python3.8/site-packages (from scikit-learn>=1.0->aif360[LawSchoolGPA]) (1.3.2)\n",
      "Requirement already satisfied: pyparsing!=2.0.4,!=2.1.2,!=2.1.6,>=2.0.3 in /shared/centos7/anaconda3/2021.05/lib/python3.8/site-packages (from matplotlib->aif360[LawSchoolGPA]) (2.4.7)\n",
      "Requirement already satisfied: kiwisolver>=1.0.1 in /shared/centos7/anaconda3/2021.05/lib/python3.8/site-packages (from matplotlib->aif360[LawSchoolGPA]) (1.3.1)\n",
      "Requirement already satisfied: pillow>=6.2.0 in /shared/centos7/anaconda3/2021.05/lib/python3.8/site-packages (from matplotlib->aif360[LawSchoolGPA]) (8.2.0)\n",
      "Requirement already satisfied: cycler>=0.10 in /shared/centos7/anaconda3/2021.05/lib/python3.8/site-packages (from matplotlib->aif360[LawSchoolGPA]) (0.10.0)\n",
      "Requirement already satisfied: pytest in /shared/centos7/anaconda3/2021.05/lib/python3.8/site-packages (from tempeh->aif360[LawSchoolGPA]) (6.2.3)\n",
      "Collecting shap\n",
      "  Downloading shap-0.43.0-cp38-cp38-manylinux_2_12_x86_64.manylinux2010_x86_64.manylinux_2_17_x86_64.manylinux2014_x86_64.whl (535 kB)\n",
      "\u001b[K     |████████████████████████████████| 535 kB 15.8 MB/s eta 0:00:01\n",
      "\u001b[?25hCollecting memory-profiler\n",
      "  Downloading memory_profiler-0.61.0-py3-none-any.whl (31 kB)\n",
      "Requirement already satisfied: requests in /home/senthilnathan.l/.local/lib/python3.8/site-packages (from tempeh->aif360[LawSchoolGPA]) (2.31.0)\n",
      "Requirement already satisfied: psutil in /shared/centos7/anaconda3/2021.05/lib/python3.8/site-packages (from memory-profiler->tempeh->aif360[LawSchoolGPA]) (5.8.0)\n",
      "Requirement already satisfied: attrs>=19.2.0 in /home/senthilnathan.l/.local/lib/python3.8/site-packages (from pytest->tempeh->aif360[LawSchoolGPA]) (23.1.0)\n",
      "Requirement already satisfied: iniconfig in /shared/centos7/anaconda3/2021.05/lib/python3.8/site-packages (from pytest->tempeh->aif360[LawSchoolGPA]) (1.1.1)\n",
      "Requirement already satisfied: packaging in /home/senthilnathan.l/.local/lib/python3.8/site-packages (from pytest->tempeh->aif360[LawSchoolGPA]) (23.2)\n",
      "Requirement already satisfied: pluggy<1.0.0a1,>=0.12 in /shared/centos7/anaconda3/2021.05/lib/python3.8/site-packages (from pytest->tempeh->aif360[LawSchoolGPA]) (0.13.1)\n",
      "Requirement already satisfied: py>=1.8.2 in /shared/centos7/anaconda3/2021.05/lib/python3.8/site-packages (from pytest->tempeh->aif360[LawSchoolGPA]) (1.10.0)\n",
      "Requirement already satisfied: toml in /shared/centos7/anaconda3/2021.05/lib/python3.8/site-packages (from pytest->tempeh->aif360[LawSchoolGPA]) (0.10.2)\n",
      "Requirement already satisfied: certifi>=2017.4.17 in /shared/centos7/anaconda3/2021.05/lib/python3.8/site-packages (from requests->tempeh->aif360[LawSchoolGPA]) (2020.12.5)\n",
      "Requirement already satisfied: urllib3<3,>=1.21.1 in /shared/centos7/anaconda3/2021.05/lib/python3.8/site-packages (from requests->tempeh->aif360[LawSchoolGPA]) (1.26.4)\n",
      "Requirement already satisfied: idna<4,>=2.5 in /shared/centos7/anaconda3/2021.05/lib/python3.8/site-packages (from requests->tempeh->aif360[LawSchoolGPA]) (2.10)\n",
      "Requirement already satisfied: charset-normalizer<4,>=2 in /home/senthilnathan.l/.local/lib/python3.8/site-packages (from requests->tempeh->aif360[LawSchoolGPA]) (3.3.2)\n",
      "Requirement already satisfied: numba in /shared/centos7/anaconda3/2021.05/lib/python3.8/site-packages (from shap->tempeh->aif360[LawSchoolGPA]) (0.53.1)\n",
      "Requirement already satisfied: tqdm>=4.27.0 in /home/senthilnathan.l/.local/lib/python3.8/site-packages (from shap->tempeh->aif360[LawSchoolGPA]) (4.66.1)\n",
      "Requirement already satisfied: cloudpickle in /shared/centos7/anaconda3/2021.05/lib/python3.8/site-packages (from shap->tempeh->aif360[LawSchoolGPA]) (1.6.0)\n",
      "Collecting slicer==0.0.7\n",
      "  Downloading slicer-0.0.7-py3-none-any.whl (14 kB)\n",
      "Requirement already satisfied: setuptools in /shared/centos7/anaconda3/2021.05/lib/python3.8/site-packages (from numba->shap->tempeh->aif360[LawSchoolGPA]) (52.0.0.post20210125)\n",
      "Requirement already satisfied: llvmlite<0.37,>=0.36.0rc1 in /shared/centos7/anaconda3/2021.05/lib/python3.8/site-packages (from numba->shap->tempeh->aif360[LawSchoolGPA]) (0.36.0)\n",
      "Installing collected packages: slicer, shap, memory-profiler, tempeh\n",
      "Successfully installed memory-profiler-0.61.0 shap-0.43.0 slicer-0.0.7 tempeh-0.1.12\n",
      "Defaulting to user installation because normal site-packages is not writeable\n",
      "Requirement already satisfied: aif360[Reductions] in /home/senthilnathan.l/.local/lib/python3.8/site-packages (0.5.0)\n",
      "Requirement already satisfied: numpy>=1.16 in /home/senthilnathan.l/.local/lib/python3.8/site-packages (from aif360[Reductions]) (1.22.4)\n",
      "Requirement already satisfied: matplotlib in /shared/centos7/anaconda3/2021.05/lib/python3.8/site-packages (from aif360[Reductions]) (3.3.4)\n",
      "Requirement already satisfied: scipy>=1.2.0 in /shared/centos7/anaconda3/2021.05/lib/python3.8/site-packages (from aif360[Reductions]) (1.6.2)\n",
      "Requirement already satisfied: scikit-learn>=1.0 in /home/senthilnathan.l/.local/lib/python3.8/site-packages (from aif360[Reductions]) (1.3.2)\n",
      "Requirement already satisfied: pandas>=0.24.0 in /home/senthilnathan.l/.local/lib/python3.8/site-packages (from aif360[Reductions]) (2.0.3)\n",
      "Collecting fairlearn~=0.7\n",
      "  Downloading fairlearn-0.9.0-py3-none-any.whl (231 kB)\n",
      "\u001b[K     |████████████████████████████████| 231 kB 9.9 MB/s eta 0:00:01\n",
      "\u001b[?25hRequirement already satisfied: pytz>=2020.1 in /shared/centos7/anaconda3/2021.05/lib/python3.8/site-packages (from pandas>=0.24.0->aif360[Reductions]) (2021.1)\n",
      "Requirement already satisfied: tzdata>=2022.1 in /home/senthilnathan.l/.local/lib/python3.8/site-packages (from pandas>=0.24.0->aif360[Reductions]) (2023.3)\n",
      "Requirement already satisfied: python-dateutil>=2.8.2 in /home/senthilnathan.l/.local/lib/python3.8/site-packages (from pandas>=0.24.0->aif360[Reductions]) (2.8.2)\n",
      "Requirement already satisfied: six>=1.5 in /shared/centos7/anaconda3/2021.05/lib/python3.8/site-packages (from python-dateutil>=2.8.2->pandas>=0.24.0->aif360[Reductions]) (1.15.0)\n",
      "Requirement already satisfied: joblib>=1.1.1 in /home/senthilnathan.l/.local/lib/python3.8/site-packages (from scikit-learn>=1.0->aif360[Reductions]) (1.3.2)\n",
      "Requirement already satisfied: threadpoolctl>=2.0.0 in /shared/centos7/anaconda3/2021.05/lib/python3.8/site-packages (from scikit-learn>=1.0->aif360[Reductions]) (2.1.0)\n",
      "Requirement already satisfied: pillow>=6.2.0 in /shared/centos7/anaconda3/2021.05/lib/python3.8/site-packages (from matplotlib->aif360[Reductions]) (8.2.0)\n",
      "Requirement already satisfied: cycler>=0.10 in /shared/centos7/anaconda3/2021.05/lib/python3.8/site-packages (from matplotlib->aif360[Reductions]) (0.10.0)\n",
      "Requirement already satisfied: pyparsing!=2.0.4,!=2.1.2,!=2.1.6,>=2.0.3 in /shared/centos7/anaconda3/2021.05/lib/python3.8/site-packages (from matplotlib->aif360[Reductions]) (2.4.7)\n",
      "Requirement already satisfied: kiwisolver>=1.0.1 in /shared/centos7/anaconda3/2021.05/lib/python3.8/site-packages (from matplotlib->aif360[Reductions]) (1.3.1)\n",
      "Installing collected packages: fairlearn\n",
      "Successfully installed fairlearn-0.9.0\n"
     ]
    }
   ],
   "source": [
    "!pip install aif360[LawSchoolGPA]\n",
    "!pip install aif360[Reductions]"
   ]
  },
  {
   "cell_type": "code",
   "execution_count": 52,
   "metadata": {
    "colab": {
     "base_uri": "https://localhost:8080/"
    },
    "id": "Fw4FMWvnFoIC",
    "outputId": "f0ac803d-8e63-4bb3-fd8e-2768022024d2"
   },
   "outputs": [
    {
     "name": "stderr",
     "output_type": "stream",
     "text": [
      "/shared/centos7/anaconda3/2021.05/lib/python3.8/site-packages/ipykernel/ipkernel.py:287: DeprecationWarning: `should_run_async` will not call `transform_cell` automatically in the future. Please pass the result to `transformed_cell` argument and any exception that happen during thetransform in `preprocessing_exc_tuple` in IPython 7.17 and above.\n",
      "  and should_run_async(code)\n",
      "WARNING:root:\n",
      "`load_boston` has been removed from scikit-learn since version 1.2.\n",
      "\n",
      "The Boston housing prices dataset has an ethical problem: as\n",
      "investigated in [1], the authors of this dataset engineered a\n",
      "non-invertible variable \"B\" assuming that racial self-segregation had a\n",
      "positive impact on house prices [2]. Furthermore the goal of the\n",
      "research that led to the creation of this dataset was to study the\n",
      "impact of air quality but it did not give adequate demonstration of the\n",
      "validity of this assumption.\n",
      "\n",
      "The scikit-learn maintainers therefore strongly discourage the use of\n",
      "this dataset unless the purpose of the code is to study and educate\n",
      "about ethical issues in data science and machine learning.\n",
      "\n",
      "In this special case, you can fetch the dataset from the original\n",
      "source::\n",
      "\n",
      "    import pandas as pd\n",
      "    import numpy as np\n",
      "\n",
      "    data_url = \"http://lib.stat.cmu.edu/datasets/boston\"\n",
      "    raw_df = pd.read_csv(data_url, sep=\"\\s+\", skiprows=22, header=None)\n",
      "    data = np.hstack([raw_df.values[::2, :], raw_df.values[1::2, :2]])\n",
      "    target = raw_df.values[1::2, 2]\n",
      "\n",
      "Alternative datasets include the California housing dataset and the\n",
      "Ames housing dataset. You can load the datasets as follows::\n",
      "\n",
      "    from sklearn.datasets import fetch_california_housing\n",
      "    housing = fetch_california_housing()\n",
      "\n",
      "for the California housing dataset and::\n",
      "\n",
      "    from sklearn.datasets import fetch_openml\n",
      "    housing = fetch_openml(name=\"house_prices\", as_frame=True)\n",
      "\n",
      "for the Ames housing dataset.\n",
      "\n",
      "[1] M Carlisle.\n",
      "\"Racist data destruction?\"\n",
      "<https://medium.com/@docintangible/racist-data-destruction-113e3eff54a8>\n",
      "\n",
      "[2] Harrison Jr, David, and Daniel L. Rubinfeld.\n",
      "\"Hedonic housing prices and the demand for clean air.\"\n",
      "Journal of environmental economics and management 5.1 (1978): 81-102.\n",
      "<https://www.researchgate.net/publication/4974606_Hedonic_housing_prices_and_the_demand_for_clean_air>\n",
      ": LawSchoolGPADataset will be unavailable. To install, run:\n",
      "pip install 'aif360[LawSchoolGPA]'\n",
      "/shared/centos7/anaconda3/2021.05/lib/python3.8/site-packages/h5py/__init__.py:46: DeprecationWarning: `np.typeDict` is a deprecated alias for `np.sctypeDict`.\n",
      "  from ._conv import register_converters as _register_converters\n"
     ]
    },
    {
     "name": "stdout",
     "output_type": "stream",
     "text": [
      "Evaluating RMSE of algorithm SVD on 5 split(s).\n",
      "\n",
      "                  Fold 1  Fold 2  Fold 3  Fold 4  Fold 5  Mean    Std     \n",
      "RMSE (testset)    0.3252  0.3260  0.3262  0.3262  0.3262  0.3260  0.0004  \n",
      "Fit time          47.86   50.22   50.75   51.38   51.22   50.29   1.28    \n",
      "Test time         4.95    5.06    5.08    5.08    5.13    5.06    0.06    \n",
      "Evaluating RMSE of algorithm SVD on 5 split(s).\n",
      "\n",
      "                  Fold 1  Fold 2  Fold 3  Fold 4  Fold 5  Mean    Std     \n",
      "RMSE (testset)    0.3256  0.3263  0.3255  0.3260  0.3260  0.3259  0.0003  \n",
      "Fit time          49.58   50.88   49.22   51.04   49.52   50.05   0.76    \n",
      "Test time         10.66   10.50   10.72   5.24    5.25    8.48    2.64    \n"
     ]
    },
    {
     "data": {
      "text/plain": [
       "{'test_rmse': array([0.32555429, 0.32630627, 0.32546201, 0.32604719, 0.32598973]),\n",
       " 'fit_time': (49.58022689819336,\n",
       "  50.88306188583374,\n",
       "  49.221858978271484,\n",
       "  51.040735960006714,\n",
       "  49.52497696876526),\n",
       " 'test_time': (10.661632776260376,\n",
       "  10.498505353927612,\n",
       "  10.72238540649414,\n",
       "  5.243840456008911,\n",
       "  5.25364351272583)}"
      ]
     },
     "execution_count": 52,
     "metadata": {},
     "output_type": "execute_result"
    }
   ],
   "source": [
    "from aif360.algorithms.preprocessing import Reweighing\n",
    "from surprise.model_selection import cross_validate\n",
    "from surprise import SVD\n",
    "from surprise import Dataset, Reader\n",
    "from aif360.datasets import StandardDataset\n",
    "\n",
    "# Assuming 'final_df' is your merged DataFrame\n",
    "\n",
    "# Step 1: Load your data using Surprise\n",
    "reader = Reader(rating_scale=(0, 1))\n",
    "data = Dataset.load_from_df(final_df[['user_id', 'app_id', 'is_recommended']], reader)\n",
    "\n",
    "# Step 2: Train your recommendation model (e.g., SVD)\n",
    "model = SVD()\n",
    "cross_validate(model, data, measures=['RMSE'], cv=5, verbose=True)\n",
    "\n",
    "# Step 3: Preprocess the data for fairness using aif360\n",
    "# Select only relevant numerical columns for fairness preprocessing\n",
    "numerical_cols = ['user_id', 'app_id', 'is_recommended', 'steam_deck']\n",
    "\n",
    "# Convert 'final_df' to an aif360 DataFrame\n",
    "dataset_aif360 = StandardDataset(\n",
    "    df=final_df[numerical_cols],\n",
    "    label_name='is_recommended',\n",
    "    favorable_classes=[1],\n",
    "    protected_attribute_names=['steam_deck'],\n",
    "    privileged_classes=[[True]],\n",
    ")\n",
    "\n",
    "# Use AIF360 to reweigh the data for fairness mitigation\n",
    "privileged_groups = [{'steam_deck': True}]  # Define the privileged group\n",
    "unprivileged_groups = [{'steam_deck': False}]  # Define the unprivileged group\n",
    "\n",
    "reweighing = Reweighing(unprivileged_groups=unprivileged_groups, privileged_groups=privileged_groups)\n",
    "reweighted_dataset = reweighing.fit_transform(dataset_aif360)\n",
    "\n",
    "# Now you can train your recommendation model on the reweighted data\n",
    "reweighted_df, _ = reweighted_dataset.convert_to_dataframe()\n",
    "reweighted_data = Dataset.load_from_df(reweighted_df[['user_id', 'app_id', 'is_recommended']], reader)\n",
    "cross_validate(model, reweighted_data, measures=['RMSE'], cv=5, verbose=True)"
   ]
  },
  {
   "cell_type": "markdown",
   "metadata": {
    "id": "g2RIUrguFs1E"
   },
   "source": [
    " The lower RMSE values and consistent performance across folds (low standard deviation) suggest that the collaborative filtering model, specifically SVD, is performing well in making accurate predictions. The fit time and test time values provide insights into the computational efficiency of the model."
   ]
  },
  {
   "cell_type": "markdown",
   "metadata": {
    "id": "cZgEEefe1A8l"
   },
   "source": [
    "## Visualization of results"
   ]
  },
  {
   "cell_type": "markdown",
   "metadata": {
    "id": "0M8mB_ra1A8m"
   },
   "source": [
    "### Accuracy values"
   ]
  },
  {
   "cell_type": "code",
   "execution_count": 53,
   "metadata": {
    "colab": {
     "base_uri": "https://localhost:8080/",
     "height": 601
    },
    "id": "Tat3lq7g1A8m",
    "outputId": "c9942574-1089-4090-bc77-126ad0204d4a"
   },
   "outputs": [
    {
     "name": "stderr",
     "output_type": "stream",
     "text": [
      "/shared/centos7/anaconda3/2021.05/lib/python3.8/site-packages/ipykernel/ipkernel.py:287: DeprecationWarning: `should_run_async` will not call `transform_cell` automatically in the future. Please pass the result to `transformed_cell` argument and any exception that happen during thetransform in `preprocessing_exc_tuple` in IPython 7.17 and above.\n",
      "  and should_run_async(code)\n"
     ]
    },
    {
     "data": {
      "image/png": "[encoded data removed]",
      "text/plain": [
       "<Figure size 720x432 with 1 Axes>"
      ]
     },
     "metadata": {
      "needs_background": "light"
     },
     "output_type": "display_data"
    }
   ],
   "source": [
    "import matplotlib.pyplot as plt\n",
    "import seaborn as sns\n",
    "\n",
    "# Define the models and their accuracy values\n",
    "models = ['SVD', 'Slope One', 'ALS', 'NMF', 'Item-Based', 'Baseline']\n",
    "accuracies = [accuracy_value_svd, accuracy_value_slope_one, accuracy_value_als, accuracy_value_nmf, accuracy_value_item_based, accuracy_value_baseline]\n",
    "\n",
    "# Create a point plot with error bars\n",
    "plt.figure(figsize=(10, 6))\n",
    "sns.pointplot(x=models, y=accuracies, color='steelblue')\n",
    "plt.title('Model Accuracy Comparison')\n",
    "plt.ylabel('Accuracy')\n",
    "plt.show()\n"
   ]
  },
  {
   "cell_type": "markdown",
   "metadata": {
    "id": "rH993hKY1A8m"
   },
   "source": [
    "### Precision values"
   ]
  },
  {
   "cell_type": "code",
   "execution_count": 54,
   "metadata": {
    "colab": {
     "base_uri": "https://localhost:8080/",
     "height": 690
    },
    "id": "MH94ozvo1A8m",
    "outputId": "9f272205-8c1a-4c10-f6b9-4d19240bde8e"
   },
   "outputs": [
    {
     "name": "stderr",
     "output_type": "stream",
     "text": [
      "/shared/centos7/anaconda3/2021.05/lib/python3.8/site-packages/ipykernel/ipkernel.py:287: DeprecationWarning: `should_run_async` will not call `transform_cell` automatically in the future. Please pass the result to `transformed_cell` argument and any exception that happen during thetransform in `preprocessing_exc_tuple` in IPython 7.17 and above.\n",
      "  and should_run_async(code)\n"
     ]
    },
    {
     "data": {
      "image/png": "[encoded data removed]",
      "text/plain": [
       "<Figure size 720x432 with 1 Axes>"
      ]
     },
     "metadata": {
      "needs_background": "light"
     },
     "output_type": "display_data"
    }
   ],
   "source": [
    "import matplotlib.pyplot as plt\n",
    "import seaborn as sns\n",
    "\n",
    "# Define the models and their precision values\n",
    "models = ['SVD', 'Slope One', 'ALS', 'NMF', 'Item-Based', 'Baseline']\n",
    "precisions = [precision_value_svd, precision_value_slope_one, precision_value_als, precision_value_nmf, precision_value_item_based, precision_value_baseline]\n",
    "\n",
    "# Create a point plot with error bars\n",
    "plt.figure(figsize=(10, 6))\n",
    "sns.pointplot(x=models, y=precisions, color='salmon', ci=\"sd\")  # Use 'ci' for error bars\n",
    "plt.title('Model Precision Comparison')\n",
    "plt.ylabel('Precision')\n",
    "plt.show()\n",
    "\n"
   ]
  },
  {
   "cell_type": "markdown",
   "metadata": {
    "id": "AKw0Jj6I1A8m"
   },
   "source": [
    "### Recall values"
   ]
  },
  {
   "cell_type": "code",
   "execution_count": 55,
   "metadata": {
    "colab": {
     "base_uri": "https://localhost:8080/",
     "height": 601
    },
    "id": "FtcwDkDB1A8m",
    "outputId": "d2a6d6ed-a99f-4668-a978-c3f2e3449116"
   },
   "outputs": [
    {
     "name": "stderr",
     "output_type": "stream",
     "text": [
      "/shared/centos7/anaconda3/2021.05/lib/python3.8/site-packages/ipykernel/ipkernel.py:287: DeprecationWarning: `should_run_async` will not call `transform_cell` automatically in the future. Please pass the result to `transformed_cell` argument and any exception that happen during thetransform in `preprocessing_exc_tuple` in IPython 7.17 and above.\n",
      "  and should_run_async(code)\n"
     ]
    },
    {
     "data": {
      "image/png": "[encoded data removed]",
      "text/plain": [
       "<Figure size 720x432 with 1 Axes>"
      ]
     },
     "metadata": {
      "needs_background": "light"
     },
     "output_type": "display_data"
    }
   ],
   "source": [
    "import matplotlib.pyplot as plt\n",
    "import seaborn as sns\n",
    "\n",
    "# Define the models and their recall values\n",
    "models = ['SVD', 'Slope One', 'ALS', 'NMF', 'Item-Based', 'Baseline']\n",
    "recalls = [recall_value_svd, recall_value_slope_one, recall_value_als, recall_value_nmf, recall_value_item_based, recall_value_baseline]\n",
    "\n",
    "# Create a violin plot\n",
    "plt.figure(figsize=(10, 6))\n",
    "sns.violinplot(x=models, y=recalls, palette=\"viridis\")\n",
    "plt.title('Model Recall Comparison')\n",
    "plt.ylabel('Recall')\n",
    "plt.show()"
   ]
  },
  {
   "cell_type": "markdown",
   "metadata": {
    "id": "NelN9-ON1A8m"
   },
   "source": [
    "### F1 values"
   ]
  },
  {
   "cell_type": "code",
   "execution_count": 56,
   "metadata": {
    "colab": {
     "base_uri": "https://localhost:8080/",
     "height": 601
    },
    "id": "genzFkuA1A8m",
    "outputId": "4730fde3-90f6-467e-f023-98a6b3053388"
   },
   "outputs": [
    {
     "name": "stderr",
     "output_type": "stream",
     "text": [
      "/shared/centos7/anaconda3/2021.05/lib/python3.8/site-packages/ipykernel/ipkernel.py:287: DeprecationWarning: `should_run_async` will not call `transform_cell` automatically in the future. Please pass the result to `transformed_cell` argument and any exception that happen during thetransform in `preprocessing_exc_tuple` in IPython 7.17 and above.\n",
      "  and should_run_async(code)\n"
     ]
    },
    {
     "data": {
      "image/png": "[encoded data removed]",
      "text/plain": [
       "<Figure size 720x432 with 1 Axes>"
      ]
     },
     "metadata": {
      "needs_background": "light"
     },
     "output_type": "display_data"
    }
   ],
   "source": [
    "import matplotlib.pyplot as plt\n",
    "import seaborn as sns\n",
    "\n",
    "# Define the models and their F1 scores\n",
    "models = ['SVD', 'Slope One', 'ALS', 'NMF', 'Item-Based', 'Baseline']\n",
    "f1_scores = [f1_value_svd, f1_value_slope_one, f1_value_als, f1_value_nmf, f1_value_item_based, f1_value_baseline]\n",
    "\n",
    "# Create a violin plot\n",
    "plt.figure(figsize=(10, 6))\n",
    "sns.violinplot(x=models, y=f1_scores, palette=\"magma\")\n",
    "plt.title('Model F1 Score Comparison')\n",
    "plt.ylabel('F1 Score')\n",
    "plt.show()\n"
   ]
  },
  {
   "cell_type": "markdown",
   "metadata": {
    "id": "8vjRcMok1A8m"
   },
   "source": [
    "### RMSE values"
   ]
  },
  {
   "cell_type": "code",
   "execution_count": 57,
   "metadata": {
    "colab": {
     "base_uri": "https://localhost:8080/",
     "height": 601
    },
    "id": "kUUn4zXN1A8m",
    "outputId": "98c66865-5cd7-44c8-9f16-a1d64717ff30"
   },
   "outputs": [
    {
     "name": "stderr",
     "output_type": "stream",
     "text": [
      "/shared/centos7/anaconda3/2021.05/lib/python3.8/site-packages/ipykernel/ipkernel.py:287: DeprecationWarning: `should_run_async` will not call `transform_cell` automatically in the future. Please pass the result to `transformed_cell` argument and any exception that happen during thetransform in `preprocessing_exc_tuple` in IPython 7.17 and above.\n",
      "  and should_run_async(code)\n"
     ]
    },
    {
     "data": {
      "image/png": "[encoded data removed]",
      "text/plain": [
       "<Figure size 720x432 with 1 Axes>"
      ]
     },
     "metadata": {
      "needs_background": "light"
     },
     "output_type": "display_data"
    }
   ],
   "source": [
    "import matplotlib.pyplot as plt\n",
    "import seaborn as sns\n",
    "\n",
    "# Define the models and their RMSE values\n",
    "models = ['SVD', 'Slope One', 'ALS', 'NMF', 'Item-Based', 'Baseline']\n",
    "rmse_values = [rmse_svd, rmse_slope_one, rmse_als, rmse_nmf, rmse_item_based, rmse_baseline]\n",
    "\n",
    "# Create a bar plot\n",
    "plt.figure(figsize=(10, 6))\n",
    "sns.barplot(x=models, y=rmse_values, palette=\"viridis\")\n",
    "plt.title('Model RMSE Comparison')\n",
    "plt.ylabel('RMSE')\n",
    "plt.show()"
   ]
  },
  {
   "cell_type": "markdown",
   "metadata": {
    "id": "ggjmfxRY1A8m"
   },
   "source": [
    "### MAE values"
   ]
  },
  {
   "cell_type": "code",
   "execution_count": 58,
   "metadata": {
    "colab": {
     "base_uri": "https://localhost:8080/",
     "height": 601
    },
    "id": "CFq-TlL41A8m",
    "outputId": "f3401ee7-a448-404e-cccd-bea9b26ddc3b"
   },
   "outputs": [
    {
     "name": "stderr",
     "output_type": "stream",
     "text": [
      "/shared/centos7/anaconda3/2021.05/lib/python3.8/site-packages/ipykernel/ipkernel.py:287: DeprecationWarning: `should_run_async` will not call `transform_cell` automatically in the future. Please pass the result to `transformed_cell` argument and any exception that happen during thetransform in `preprocessing_exc_tuple` in IPython 7.17 and above.\n",
      "  and should_run_async(code)\n"
     ]
    },
    {
     "data": {
      "image/png": "[encoded data removed]",
      "text/plain": [
       "<Figure size 720x432 with 1 Axes>"
      ]
     },
     "metadata": {
      "needs_background": "light"
     },
     "output_type": "display_data"
    }
   ],
   "source": [
    "import matplotlib.pyplot as plt\n",
    "import seaborn as sns\n",
    "\n",
    "# Define the models and their MAE values\n",
    "models = ['SVD', 'Slope One', 'ALS', 'NMF', 'Item-Based', 'Baseline']\n",
    "mae_values = [mae_svd, mae_slope_one, mae_als, mae_nmf, mae_item_based, mae_baseline]\n",
    "\n",
    "# Create a bar plot\n",
    "plt.figure(figsize=(10, 6))\n",
    "sns.barplot(x=models, y=mae_values, palette=\"mako\")\n",
    "plt.title('Model MAE Comparison')\n",
    "plt.ylabel('MAE')\n",
    "plt.show()"
   ]
  },
  {
   "cell_type": "code",
   "execution_count": 65,
   "metadata": {
    "id": "uGq2N9DSdxQw"
   },
   "outputs": [
    {
     "name": "stderr",
     "output_type": "stream",
     "text": [
      "/shared/centos7/anaconda3/2021.05/lib/python3.8/site-packages/ipykernel/ipkernel.py:287: DeprecationWarning: `should_run_async` will not call `transform_cell` automatically in the future. Please pass the result to `transformed_cell` argument and any exception that happen during thetransform in `preprocessing_exc_tuple` in IPython 7.17 and above.\n",
      "  and should_run_async(code)\n"
     ]
    },
    {
     "data": {
      "text/plain": [
       "[0.20864573492263064,\n",
       " 0.23544598108406314,\n",
       " 0.4426075381968042,\n",
       " 0.26725138101917817,\n",
       " 0.22915778496240521,\n",
       " 0.2116221817853378]"
      ]
     },
     "execution_count": 65,
     "metadata": {},
     "output_type": "execute_result"
    }
   ],
   "source": [
    "mae_values"
   ]
  },
  {
   "cell_type": "code",
   "execution_count": null,
   "metadata": {},
   "outputs": [],
   "source": []
  }
 ],
 "metadata": {
  "colab": {
   "provenance": []
  },
  "kernelspec": {
   "display_name": "Python 3",
   "language": "python",
   "name": "python3"
  },
  "language_info": {
   "codemirror_mode": {
    "name": "ipython",
    "version": 3
   },
   "file_extension": ".py",
   "mimetype": "text/x-python",
   "name": "python",
   "nbconvert_exporter": "python",
   "pygments_lexer": "ipython3",
   "version": "3.8.8"
  }
 },
 "nbformat": 4,
 "nbformat_minor": 4
}
